{
 "cells": [
  {
   "cell_type": "markdown",
   "metadata": {},
   "source": [
    "# Data Collection and Preparation"
   ]
  },
  {
   "cell_type": "markdown",
   "metadata": {},
   "source": [
    "# Mary Donovan Martello"
   ]
  },
  {
   "cell_type": "markdown",
   "metadata": {},
   "source": [
    "## The first part of this project consisted of collecting, cleaning and preparing data from three different sources: a flat file, a website (collected by scraping the website), and an API.  The final product included joining all three sources on the same key, storing them in a SQLite database and executing SQL commands.  This notebook includes loading a CSV file and cleaning the data."
   ]
  },
  {
   "cell_type": "markdown",
   "metadata": {},
   "source": [
    "# Part 1:  Flat File Data Source / Cleaning"
   ]
  },
  {
   "cell_type": "code",
   "execution_count": null,
   "metadata": {},
   "outputs": [],
   "source": []
  },
  {
   "cell_type": "code",
   "execution_count": 1,
   "metadata": {},
   "outputs": [],
   "source": [
    "\n",
    "%matplotlib inline\n",
    "\n",
    "# import libraries\n",
    "\n",
    "import numpy as np\n",
    "import pandas as pd\n",
    "import matplotlib.pyplot as plt\n"
   ]
  },
  {
   "cell_type": "code",
   "execution_count": null,
   "metadata": {},
   "outputs": [],
   "source": []
  },
  {
   "cell_type": "markdown",
   "metadata": {},
   "source": [
    "## The data for this notebook is a mutual fund data held in a csv file.  It can be downloaded from: https://www.kaggle.com/stefanoleone992/mutual-funds-and-etfs?select=Mutual+Funds.csv"
   ]
  },
  {
   "cell_type": "code",
   "execution_count": 38,
   "metadata": {},
   "outputs": [
    {
     "name": "stderr",
     "output_type": "stream",
     "text": [
      "C:\\Users\\trave\\Anaconda3\\lib\\site-packages\\IPython\\core\\interactiveshell.py:3063: DtypeWarning: Columns (20,22,23,119,121,123) have mixed types.Specify dtype option on import or set low_memory=False.\n",
      "  interactivity=interactivity, compiler=compiler, result=result)\n"
     ]
    },
    {
     "data": {
      "text/html": [
       "<div>\n",
       "<style scoped>\n",
       "    .dataframe tbody tr th:only-of-type {\n",
       "        vertical-align: middle;\n",
       "    }\n",
       "\n",
       "    .dataframe tbody tr th {\n",
       "        vertical-align: top;\n",
       "    }\n",
       "\n",
       "    .dataframe thead th {\n",
       "        text-align: right;\n",
       "    }\n",
       "</style>\n",
       "<table border=\"1\" class=\"dataframe\">\n",
       "  <thead>\n",
       "    <tr style=\"text-align: right;\">\n",
       "      <th></th>\n",
       "      <th>fund_name</th>\n",
       "      <th>fund_extended_name</th>\n",
       "      <th>category</th>\n",
       "      <th>fund_family</th>\n",
       "      <th>net_assets</th>\n",
       "      <th>ytd_return</th>\n",
       "      <th>fund_yield</th>\n",
       "      <th>morningstar_rating</th>\n",
       "      <th>inception_date</th>\n",
       "      <th>investment</th>\n",
       "      <th>...</th>\n",
       "      <th>fund_sharpe_ratio_5years</th>\n",
       "      <th>category_sharpe_ratio_5years</th>\n",
       "      <th>fund_sharpe_ratio_10years</th>\n",
       "      <th>category_sharpe_ratio_10years</th>\n",
       "      <th>fund_treynor_ratio_3years</th>\n",
       "      <th>category_treynor_ratio_3years</th>\n",
       "      <th>fund_treynor_ratio_5years</th>\n",
       "      <th>category_treynor_ratio_5years</th>\n",
       "      <th>fund_treynor_ratio_10years</th>\n",
       "      <th>category_treynor_ratio_10years</th>\n",
       "    </tr>\n",
       "  </thead>\n",
       "  <tbody>\n",
       "    <tr>\n",
       "      <th>0</th>\n",
       "      <td>AAAAX</td>\n",
       "      <td>DWS RREEF Real Assets Fund - Class A</td>\n",
       "      <td>World Allocation</td>\n",
       "      <td>DWS</td>\n",
       "      <td>5.302800e+08</td>\n",
       "      <td>12.79</td>\n",
       "      <td>1.43</td>\n",
       "      <td>3</td>\n",
       "      <td>2007-07-29</td>\n",
       "      <td>Blend</td>\n",
       "      <td>...</td>\n",
       "      <td>0.31</td>\n",
       "      <td>0.00</td>\n",
       "      <td>0.73</td>\n",
       "      <td>0.01</td>\n",
       "      <td>5.05</td>\n",
       "      <td>0.05</td>\n",
       "      <td>2.26</td>\n",
       "      <td>0.02</td>\n",
       "      <td>6.71</td>\n",
       "      <td>0.07</td>\n",
       "    </tr>\n",
       "    <tr>\n",
       "      <th>1</th>\n",
       "      <td>AAADX</td>\n",
       "      <td>Aberdeen Income Builder Fund Class A</td>\n",
       "      <td>Large Blend</td>\n",
       "      <td>Aberdeen</td>\n",
       "      <td>8.884000e+07</td>\n",
       "      <td>9.21</td>\n",
       "      <td>2.62</td>\n",
       "      <td>2</td>\n",
       "      <td>2011-12-29</td>\n",
       "      <td>Blend</td>\n",
       "      <td>...</td>\n",
       "      <td>0.62</td>\n",
       "      <td>0.01</td>\n",
       "      <td>0.97</td>\n",
       "      <td>0.01</td>\n",
       "      <td>11.55</td>\n",
       "      <td>0.11</td>\n",
       "      <td>6.91</td>\n",
       "      <td>0.08</td>\n",
       "      <td>12.77</td>\n",
       "      <td>0.14</td>\n",
       "    </tr>\n",
       "    <tr>\n",
       "      <th>2</th>\n",
       "      <td>AAAGX</td>\n",
       "      <td>Thrivent Large Cap Growth Fund Class A</td>\n",
       "      <td>Large Growth</td>\n",
       "      <td>Thrivent Funds</td>\n",
       "      <td>1.080000e+09</td>\n",
       "      <td>16.00</td>\n",
       "      <td>0.00</td>\n",
       "      <td>3</td>\n",
       "      <td>1999-10-28</td>\n",
       "      <td>Growth</td>\n",
       "      <td>...</td>\n",
       "      <td>0.86</td>\n",
       "      <td>0.01</td>\n",
       "      <td>1.01</td>\n",
       "      <td>0.01</td>\n",
       "      <td>12.65</td>\n",
       "      <td>0.13</td>\n",
       "      <td>10.22</td>\n",
       "      <td>0.10</td>\n",
       "      <td>13.44</td>\n",
       "      <td>0.15</td>\n",
       "    </tr>\n",
       "    <tr>\n",
       "      <th>3</th>\n",
       "      <td>AAAIX</td>\n",
       "      <td>American Century Strategic Allocation: Aggress...</td>\n",
       "      <td>Allocation - 70% to 85% Equity</td>\n",
       "      <td>American Century Investments</td>\n",
       "      <td>7.852700e+08</td>\n",
       "      <td>11.57</td>\n",
       "      <td>1.38</td>\n",
       "      <td>4</td>\n",
       "      <td>2000-07-31</td>\n",
       "      <td>Growth</td>\n",
       "      <td>...</td>\n",
       "      <td>0.63</td>\n",
       "      <td>0.01</td>\n",
       "      <td>1.00</td>\n",
       "      <td>0.01</td>\n",
       "      <td>5.77</td>\n",
       "      <td>0.05</td>\n",
       "      <td>4.14</td>\n",
       "      <td>0.03</td>\n",
       "      <td>8.24</td>\n",
       "      <td>0.08</td>\n",
       "    </tr>\n",
       "    <tr>\n",
       "      <th>4</th>\n",
       "      <td>AAANX</td>\n",
       "      <td>Horizon Active Asset Allocation Fund Investor ...</td>\n",
       "      <td>Tactical Allocation</td>\n",
       "      <td>Horizon Investments</td>\n",
       "      <td>5.271300e+08</td>\n",
       "      <td>11.62</td>\n",
       "      <td>0.66</td>\n",
       "      <td>4</td>\n",
       "      <td>2012-01-30</td>\n",
       "      <td>Blend</td>\n",
       "      <td>...</td>\n",
       "      <td>0.47</td>\n",
       "      <td>0.00</td>\n",
       "      <td>NaN</td>\n",
       "      <td>0.01</td>\n",
       "      <td>4.5</td>\n",
       "      <td>0.04</td>\n",
       "      <td>2.98</td>\n",
       "      <td>0.03</td>\n",
       "      <td>NaN</td>\n",
       "      <td>0.09</td>\n",
       "    </tr>\n",
       "  </tbody>\n",
       "</table>\n",
       "<p>5 rows × 125 columns</p>\n",
       "</div>"
      ],
      "text/plain": [
       "  fund_name                                 fund_extended_name  \\\n",
       "0     AAAAX               DWS RREEF Real Assets Fund - Class A   \n",
       "1     AAADX               Aberdeen Income Builder Fund Class A   \n",
       "2     AAAGX             Thrivent Large Cap Growth Fund Class A   \n",
       "3     AAAIX  American Century Strategic Allocation: Aggress...   \n",
       "4     AAANX  Horizon Active Asset Allocation Fund Investor ...   \n",
       "\n",
       "                         category                   fund_family    net_assets  \\\n",
       "0                World Allocation                           DWS  5.302800e+08   \n",
       "1                     Large Blend                      Aberdeen  8.884000e+07   \n",
       "2                    Large Growth                Thrivent Funds  1.080000e+09   \n",
       "3  Allocation - 70% to 85% Equity  American Century Investments  7.852700e+08   \n",
       "4             Tactical Allocation           Horizon Investments  5.271300e+08   \n",
       "\n",
       "   ytd_return  fund_yield  morningstar_rating inception_date investment  ...  \\\n",
       "0       12.79        1.43                   3     2007-07-29      Blend  ...   \n",
       "1        9.21        2.62                   2     2011-12-29      Blend  ...   \n",
       "2       16.00        0.00                   3     1999-10-28     Growth  ...   \n",
       "3       11.57        1.38                   4     2000-07-31     Growth  ...   \n",
       "4       11.62        0.66                   4     2012-01-30      Blend  ...   \n",
       "\n",
       "  fund_sharpe_ratio_5years category_sharpe_ratio_5years  \\\n",
       "0                     0.31                         0.00   \n",
       "1                     0.62                         0.01   \n",
       "2                     0.86                         0.01   \n",
       "3                     0.63                         0.01   \n",
       "4                     0.47                         0.00   \n",
       "\n",
       "   fund_sharpe_ratio_10years  category_sharpe_ratio_10years  \\\n",
       "0                       0.73                           0.01   \n",
       "1                       0.97                           0.01   \n",
       "2                       1.01                           0.01   \n",
       "3                       1.00                           0.01   \n",
       "4                        NaN                           0.01   \n",
       "\n",
       "   fund_treynor_ratio_3years  category_treynor_ratio_3years  \\\n",
       "0                       5.05                           0.05   \n",
       "1                      11.55                           0.11   \n",
       "2                      12.65                           0.13   \n",
       "3                       5.77                           0.05   \n",
       "4                        4.5                           0.04   \n",
       "\n",
       "   fund_treynor_ratio_5years  category_treynor_ratio_5years  \\\n",
       "0                       2.26                           0.02   \n",
       "1                       6.91                           0.08   \n",
       "2                      10.22                           0.10   \n",
       "3                       4.14                           0.03   \n",
       "4                       2.98                           0.03   \n",
       "\n",
       "   fund_treynor_ratio_10years  category_treynor_ratio_10years  \n",
       "0                        6.71                            0.07  \n",
       "1                       12.77                            0.14  \n",
       "2                       13.44                            0.15  \n",
       "3                        8.24                            0.08  \n",
       "4                         NaN                            0.09  \n",
       "\n",
       "[5 rows x 125 columns]"
      ]
     },
     "execution_count": 38,
     "metadata": {},
     "output_type": "execute_result"
    }
   ],
   "source": [
    "# import file\n",
    "mf = pd.read_csv('Mutual Funds.csv')\n",
    "mf.head()"
   ]
  },
  {
   "cell_type": "code",
   "execution_count": 39,
   "metadata": {},
   "outputs": [
    {
     "data": {
      "text/plain": [
       "(25308, 125)"
      ]
     },
     "execution_count": 39,
     "metadata": {},
     "output_type": "execute_result"
    }
   ],
   "source": [
    "mf.shape"
   ]
  },
  {
   "cell_type": "code",
   "execution_count": null,
   "metadata": {},
   "outputs": [],
   "source": []
  },
  {
   "cell_type": "markdown",
   "metadata": {},
   "source": [
    "## Data Cleaning"
   ]
  },
  {
   "cell_type": "markdown",
   "metadata": {},
   "source": [
    "### Fix Datatypes."
   ]
  },
  {
   "cell_type": "code",
   "execution_count": 40,
   "metadata": {},
   "outputs": [],
   "source": [
    "\n",
    "# Importing the file with pandas showed that six columns had mixed datatypes.  The warning say to set datatype to object, but\n",
    "#   that did not work because then the numbers were strings instead of integers or floats.  \n",
    "# In examining these columns I discovered that some of the values were entered as strings with a comma in them.  I transformed\n",
    "#    these six columns by replacing the commas in the strings so that I could convert the datatypes to floats.\n",
    "\n",
    "mf['price_earnings'] = mf['price_earnings'].str.replace(',', \"\").astype(float)\n",
    "mf['price_sales'] = mf['price_sales'].str.replace(',', \"\").astype(float)\n",
    "mf['price_cashflow'] = mf['price_cashflow'].str.replace(',', \"\").astype(float)\n",
    "mf['fund_treynor_ratio_3years'] = mf['fund_treynor_ratio_3years'].str.replace(',', \"\").astype(float)\n",
    "mf['fund_treynor_ratio_5years'] = mf['fund_treynor_ratio_5years'].str.replace(',', \"\").astype(float)\n",
    "mf['fund_treynor_ratio_10years'] = mf['fund_treynor_ratio_10years'].str.replace(',', \"\").astype(float)\n",
    "# ['price_earnings', 'price_values', 'price_cashflow', 'fund_treynor_ratio_3years', 'fund_treynor_ratio_5years', 'fund_treynor_ratio_10years']"
   ]
  },
  {
   "cell_type": "code",
   "execution_count": 41,
   "metadata": {},
   "outputs": [
    {
     "data": {
      "text/plain": [
       "(25308, 125)"
      ]
     },
     "execution_count": 41,
     "metadata": {},
     "output_type": "execute_result"
    }
   ],
   "source": [
    "mf.shape"
   ]
  },
  {
   "cell_type": "code",
   "execution_count": 39,
   "metadata": {},
   "outputs": [],
   "source": [
    "# Set it None to display all columns in the dataframe\n",
    "pd.set_option('display.max_columns', None)"
   ]
  },
  {
   "cell_type": "code",
   "execution_count": 40,
   "metadata": {},
   "outputs": [
    {
     "data": {
      "text/plain": [
       "fund_name                             0\n",
       "fund_extended_name                    0\n",
       "category                              0\n",
       "fund_family                           0\n",
       "net_assets                          121\n",
       "                                  ...  \n",
       "category_treynor_ratio_3years       108\n",
       "fund_treynor_ratio_5years         11291\n",
       "category_treynor_ratio_5years       108\n",
       "fund_treynor_ratio_10years         9198\n",
       "category_treynor_ratio_10years      108\n",
       "Length: 125, dtype: int64"
      ]
     },
     "execution_count": 40,
     "metadata": {},
     "output_type": "execute_result"
    }
   ],
   "source": [
    "# Check for missing values\n",
    "mf.isnull().sum()"
   ]
  },
  {
   "cell_type": "code",
   "execution_count": 41,
   "metadata": {},
   "outputs": [
    {
     "name": "stdout",
     "output_type": "stream",
     "text": [
      "net_assets has 121 missing value(s)\n",
      "ytd_return has 110 missing value(s)\n",
      "fund_yield has 129 missing value(s)\n",
      "investment has 1502 missing value(s)\n",
      "size has 1502 missing value(s)\n",
      "portfolio_cash has 115 missing value(s)\n",
      "portfolio_stocks has 115 missing value(s)\n",
      "portfolio_bonds has 115 missing value(s)\n",
      "portfolio_others has 115 missing value(s)\n",
      "portfolio_preferred has 115 missing value(s)\n",
      "portfolio_convertable has 115 missing value(s)\n",
      "price_earnings has 9010 missing value(s)\n",
      "price_book has 115 missing value(s)\n",
      "price_sales has 17158 missing value(s)\n",
      "price_cashflow has 9010 missing value(s)\n",
      "median_market_cap has 115 missing value(s)\n",
      "basic_materials has 115 missing value(s)\n",
      "consumer_cyclical has 115 missing value(s)\n",
      "financial_services has 115 missing value(s)\n",
      "real_estate has 115 missing value(s)\n",
      "consumer_defensive has 115 missing value(s)\n",
      "healthcare has 115 missing value(s)\n",
      "utilities has 115 missing value(s)\n",
      "communication_services has 115 missing value(s)\n",
      "energy has 115 missing value(s)\n",
      "industrials has 115 missing value(s)\n",
      "technology has 115 missing value(s)\n",
      "bond_maturity has 17113 missing value(s)\n",
      "bond_duration has 15316 missing value(s)\n",
      "rating_us_government has 115 missing value(s)\n",
      "rating_aaa has 115 missing value(s)\n",
      "rating_aa has 115 missing value(s)\n",
      "rating_a has 115 missing value(s)\n",
      "rating_bbb has 115 missing value(s)\n",
      "rating_bb has 115 missing value(s)\n",
      "rating_b has 115 missing value(s)\n",
      "rating_below_b has 115 missing value(s)\n",
      "rating_others has 115 missing value(s)\n",
      "morningstar_return_rating has 1 missing value(s)\n",
      "fund_return_ytd has 117 missing value(s)\n",
      "category_return_ytd has 117 missing value(s)\n",
      "fund_return_1month has 117 missing value(s)\n",
      "category_return_1month has 117 missing value(s)\n",
      "fund_return_3months has 117 missing value(s)\n",
      "category_return_3months has 117 missing value(s)\n",
      "fund_return_1year has 117 missing value(s)\n",
      "category_return_1year has 117 missing value(s)\n",
      "fund_return_3years has 117 missing value(s)\n",
      "category_return_3years has 117 missing value(s)\n",
      "fund_return_5years has 117 missing value(s)\n",
      "category_return_5years has 117 missing value(s)\n",
      "fund_return_10years has 117 missing value(s)\n",
      "category_return_10years has 117 missing value(s)\n",
      "fund_return_2018 has 954 missing value(s)\n",
      "category_return_2018 has 817 missing value(s)\n",
      "fund_return_2017 has 2586 missing value(s)\n",
      "category_return_2017 has 1446 missing value(s)\n",
      "fund_return_2016 has 3980 missing value(s)\n",
      "category_return_2016 has 3133 missing value(s)\n",
      "fund_return_2015 has 5759 missing value(s)\n",
      "category_return_2015 has 4653 missing value(s)\n",
      "fund_return_2014 has 7298 missing value(s)\n",
      "category_return_2014 has 6262 missing value(s)\n",
      "fund_return_2013 has 8643 missing value(s)\n",
      "category_return_2013 has 7732 missing value(s)\n",
      "fund_return_2012 has 10110 missing value(s)\n",
      "category_return_2012 has 9236 missing value(s)\n",
      "fund_return_2011 has 11302 missing value(s)\n",
      "category_return_2011 has 10661 missing value(s)\n",
      "fund_return_2010 has 12420 missing value(s)\n",
      "category_return_2010 has 11679 missing value(s)\n",
      "morningstar_risk_rating has 2 missing value(s)\n",
      "years_up has 1838 missing value(s)\n",
      "years_down has 1658 missing value(s)\n",
      "fund_alpha_3years has 1669 missing value(s)\n",
      "category_alpha_3years has 108 missing value(s)\n",
      "fund_alpha_5years has 3894 missing value(s)\n",
      "category_alpha_5years has 108 missing value(s)\n",
      "fund_alpha_10years has 8686 missing value(s)\n",
      "category_alpha_10years has 108 missing value(s)\n",
      "fund_beta_3years has 1669 missing value(s)\n",
      "category_beta_3years has 108 missing value(s)\n",
      "fund_beta_5years has 3894 missing value(s)\n",
      "category_beta_5years has 108 missing value(s)\n",
      "fund_beta_10years has 8686 missing value(s)\n",
      "category_beta_10years has 108 missing value(s)\n",
      "fund_mean_annual_return_3years has 1669 missing value(s)\n",
      "category_mean_annual_return_3years has 108 missing value(s)\n",
      "fund_mean_annual_return_5years has 3894 missing value(s)\n",
      "category_mean_annual_return_5years has 108 missing value(s)\n",
      "fund_mean_annual_return_10years has 8686 missing value(s)\n",
      "category_mean_annual_return_10years has 108 missing value(s)\n",
      "fund_r_squared_3years has 1669 missing value(s)\n",
      "category_r_squared_3years has 108 missing value(s)\n",
      "fund_r_squared_5years has 3894 missing value(s)\n",
      "category_r_squared_5years has 108 missing value(s)\n",
      "fund_r_squared_10years has 8686 missing value(s)\n",
      "category_r_squared_10years has 108 missing value(s)\n",
      "fund_standard_deviation_3years has 1669 missing value(s)\n",
      "category_standard_deviation_3years has 108 missing value(s)\n",
      "fund_standard_deviation_5years has 3894 missing value(s)\n",
      "category_standard_deviation_5years has 108 missing value(s)\n",
      "fund_standard_deviation_10years has 8686 missing value(s)\n",
      "category_standard_deviation_10years has 108 missing value(s)\n",
      "fund_sharpe_ratio_3years has 1669 missing value(s)\n",
      "category_sharpe_ratio_3years has 108 missing value(s)\n",
      "fund_sharpe_ratio_5years has 3894 missing value(s)\n",
      "category_sharpe_ratio_5years has 108 missing value(s)\n",
      "fund_sharpe_ratio_10years has 8686 missing value(s)\n",
      "category_sharpe_ratio_10years has 108 missing value(s)\n",
      "fund_treynor_ratio_3years has 10033 missing value(s)\n",
      "category_treynor_ratio_3years has 108 missing value(s)\n",
      "fund_treynor_ratio_5years has 11291 missing value(s)\n",
      "category_treynor_ratio_5years has 108 missing value(s)\n",
      "fund_treynor_ratio_10years has 9198 missing value(s)\n",
      "category_treynor_ratio_10years has 108 missing value(s)\n"
     ]
    }
   ],
   "source": [
    "for c in mf.columns:\n",
    "    miss = mf[c].isnull().sum()\n",
    "    if miss>0:\n",
    "        print(\"{} has {} missing value(s)\".format(c,miss))"
   ]
  },
  {
   "cell_type": "code",
   "execution_count": null,
   "metadata": {},
   "outputs": [],
   "source": []
  },
  {
   "cell_type": "markdown",
   "metadata": {},
   "source": [
    "### Convert date format in column to year only."
   ]
  },
  {
   "cell_type": "code",
   "execution_count": 42,
   "metadata": {},
   "outputs": [
    {
     "data": {
      "text/plain": [
       "0        2007-07-29\n",
       "1        2011-12-29\n",
       "2        1999-10-28\n",
       "3        2000-07-31\n",
       "4        2012-01-30\n",
       "            ...    \n",
       "25303    2014-02-27\n",
       "25304    2015-08-30\n",
       "25305    2015-08-30\n",
       "25306    2015-08-30\n",
       "25307    2015-08-30\n",
       "Name: inception_date, Length: 25308, dtype: object"
      ]
     },
     "execution_count": 42,
     "metadata": {},
     "output_type": "execute_result"
    }
   ],
   "source": [
    "# convert date format in inception_date to year only\n",
    "mf['inception_date']"
   ]
  },
  {
   "cell_type": "code",
   "execution_count": 43,
   "metadata": {},
   "outputs": [],
   "source": [
    "# https://stackoverflow.com/questions/28133018/convert-pandas-series-to-datetime-in-a-dataframe\n",
    "import datetime\n",
    "# dfClaims[\"incident_date\"]= pandas.to_datetime(dfClaims[\"incident_date\"])\n",
    "mf['inception_date'] = pd.to_datetime(mf['inception_date'])\n",
    "\n",
    "mf['inception_date'] = mf['inception_date'].dt.year"
   ]
  },
  {
   "cell_type": "code",
   "execution_count": 44,
   "metadata": {},
   "outputs": [
    {
     "data": {
      "text/plain": [
       "0        2007\n",
       "1        2011\n",
       "2        1999\n",
       "3        2000\n",
       "4        2012\n",
       "         ... \n",
       "25303    2014\n",
       "25304    2015\n",
       "25305    2015\n",
       "25306    2015\n",
       "25307    2015\n",
       "Name: inception_date, Length: 25308, dtype: int64"
      ]
     },
     "execution_count": 44,
     "metadata": {},
     "output_type": "execute_result"
    }
   ],
   "source": [
    "mf['inception_date']"
   ]
  },
  {
   "cell_type": "code",
   "execution_count": 45,
   "metadata": {},
   "outputs": [
    {
     "data": {
      "text/html": [
       "<div>\n",
       "<style scoped>\n",
       "    .dataframe tbody tr th:only-of-type {\n",
       "        vertical-align: middle;\n",
       "    }\n",
       "\n",
       "    .dataframe tbody tr th {\n",
       "        vertical-align: top;\n",
       "    }\n",
       "\n",
       "    .dataframe thead th {\n",
       "        text-align: right;\n",
       "    }\n",
       "</style>\n",
       "<table border=\"1\" class=\"dataframe\">\n",
       "  <thead>\n",
       "    <tr style=\"text-align: right;\">\n",
       "      <th></th>\n",
       "      <th>fund_name</th>\n",
       "      <th>fund_extended_name</th>\n",
       "      <th>category</th>\n",
       "      <th>fund_family</th>\n",
       "      <th>net_assets</th>\n",
       "      <th>ytd_return</th>\n",
       "      <th>fund_yield</th>\n",
       "      <th>morningstar_rating</th>\n",
       "      <th>inception_date</th>\n",
       "      <th>investment</th>\n",
       "      <th>...</th>\n",
       "      <th>fund_sharpe_ratio_5years</th>\n",
       "      <th>category_sharpe_ratio_5years</th>\n",
       "      <th>fund_sharpe_ratio_10years</th>\n",
       "      <th>category_sharpe_ratio_10years</th>\n",
       "      <th>fund_treynor_ratio_3years</th>\n",
       "      <th>category_treynor_ratio_3years</th>\n",
       "      <th>fund_treynor_ratio_5years</th>\n",
       "      <th>category_treynor_ratio_5years</th>\n",
       "      <th>fund_treynor_ratio_10years</th>\n",
       "      <th>category_treynor_ratio_10years</th>\n",
       "    </tr>\n",
       "  </thead>\n",
       "  <tbody>\n",
       "    <tr>\n",
       "      <th>0</th>\n",
       "      <td>AAAAX</td>\n",
       "      <td>DWS RREEF Real Assets Fund - Class A</td>\n",
       "      <td>World Allocation</td>\n",
       "      <td>DWS</td>\n",
       "      <td>5.302800e+08</td>\n",
       "      <td>12.79</td>\n",
       "      <td>1.43</td>\n",
       "      <td>3</td>\n",
       "      <td>2007</td>\n",
       "      <td>Blend</td>\n",
       "      <td>...</td>\n",
       "      <td>0.31</td>\n",
       "      <td>0.00</td>\n",
       "      <td>0.73</td>\n",
       "      <td>0.01</td>\n",
       "      <td>5.05</td>\n",
       "      <td>0.05</td>\n",
       "      <td>2.26</td>\n",
       "      <td>0.02</td>\n",
       "      <td>6.71</td>\n",
       "      <td>0.07</td>\n",
       "    </tr>\n",
       "    <tr>\n",
       "      <th>1</th>\n",
       "      <td>AAADX</td>\n",
       "      <td>Aberdeen Income Builder Fund Class A</td>\n",
       "      <td>Large Blend</td>\n",
       "      <td>Aberdeen</td>\n",
       "      <td>8.884000e+07</td>\n",
       "      <td>9.21</td>\n",
       "      <td>2.62</td>\n",
       "      <td>2</td>\n",
       "      <td>2011</td>\n",
       "      <td>Blend</td>\n",
       "      <td>...</td>\n",
       "      <td>0.62</td>\n",
       "      <td>0.01</td>\n",
       "      <td>0.97</td>\n",
       "      <td>0.01</td>\n",
       "      <td>11.55</td>\n",
       "      <td>0.11</td>\n",
       "      <td>6.91</td>\n",
       "      <td>0.08</td>\n",
       "      <td>12.77</td>\n",
       "      <td>0.14</td>\n",
       "    </tr>\n",
       "    <tr>\n",
       "      <th>2</th>\n",
       "      <td>AAAGX</td>\n",
       "      <td>Thrivent Large Cap Growth Fund Class A</td>\n",
       "      <td>Large Growth</td>\n",
       "      <td>Thrivent Funds</td>\n",
       "      <td>1.080000e+09</td>\n",
       "      <td>16.00</td>\n",
       "      <td>0.00</td>\n",
       "      <td>3</td>\n",
       "      <td>1999</td>\n",
       "      <td>Growth</td>\n",
       "      <td>...</td>\n",
       "      <td>0.86</td>\n",
       "      <td>0.01</td>\n",
       "      <td>1.01</td>\n",
       "      <td>0.01</td>\n",
       "      <td>12.65</td>\n",
       "      <td>0.13</td>\n",
       "      <td>10.22</td>\n",
       "      <td>0.10</td>\n",
       "      <td>13.44</td>\n",
       "      <td>0.15</td>\n",
       "    </tr>\n",
       "    <tr>\n",
       "      <th>3</th>\n",
       "      <td>AAAIX</td>\n",
       "      <td>American Century Strategic Allocation: Aggress...</td>\n",
       "      <td>Allocation - 70% to 85% Equity</td>\n",
       "      <td>American Century Investments</td>\n",
       "      <td>7.852700e+08</td>\n",
       "      <td>11.57</td>\n",
       "      <td>1.38</td>\n",
       "      <td>4</td>\n",
       "      <td>2000</td>\n",
       "      <td>Growth</td>\n",
       "      <td>...</td>\n",
       "      <td>0.63</td>\n",
       "      <td>0.01</td>\n",
       "      <td>1.00</td>\n",
       "      <td>0.01</td>\n",
       "      <td>5.77</td>\n",
       "      <td>0.05</td>\n",
       "      <td>4.14</td>\n",
       "      <td>0.03</td>\n",
       "      <td>8.24</td>\n",
       "      <td>0.08</td>\n",
       "    </tr>\n",
       "    <tr>\n",
       "      <th>4</th>\n",
       "      <td>AAANX</td>\n",
       "      <td>Horizon Active Asset Allocation Fund Investor ...</td>\n",
       "      <td>Tactical Allocation</td>\n",
       "      <td>Horizon Investments</td>\n",
       "      <td>5.271300e+08</td>\n",
       "      <td>11.62</td>\n",
       "      <td>0.66</td>\n",
       "      <td>4</td>\n",
       "      <td>2012</td>\n",
       "      <td>Blend</td>\n",
       "      <td>...</td>\n",
       "      <td>0.47</td>\n",
       "      <td>0.00</td>\n",
       "      <td>NaN</td>\n",
       "      <td>0.01</td>\n",
       "      <td>4.50</td>\n",
       "      <td>0.04</td>\n",
       "      <td>2.98</td>\n",
       "      <td>0.03</td>\n",
       "      <td>NaN</td>\n",
       "      <td>0.09</td>\n",
       "    </tr>\n",
       "  </tbody>\n",
       "</table>\n",
       "<p>5 rows × 125 columns</p>\n",
       "</div>"
      ],
      "text/plain": [
       "  fund_name                                 fund_extended_name  \\\n",
       "0     AAAAX               DWS RREEF Real Assets Fund - Class A   \n",
       "1     AAADX               Aberdeen Income Builder Fund Class A   \n",
       "2     AAAGX             Thrivent Large Cap Growth Fund Class A   \n",
       "3     AAAIX  American Century Strategic Allocation: Aggress...   \n",
       "4     AAANX  Horizon Active Asset Allocation Fund Investor ...   \n",
       "\n",
       "                         category                   fund_family    net_assets  \\\n",
       "0                World Allocation                           DWS  5.302800e+08   \n",
       "1                     Large Blend                      Aberdeen  8.884000e+07   \n",
       "2                    Large Growth                Thrivent Funds  1.080000e+09   \n",
       "3  Allocation - 70% to 85% Equity  American Century Investments  7.852700e+08   \n",
       "4             Tactical Allocation           Horizon Investments  5.271300e+08   \n",
       "\n",
       "   ytd_return  fund_yield  morningstar_rating  inception_date investment  ...  \\\n",
       "0       12.79        1.43                   3            2007      Blend  ...   \n",
       "1        9.21        2.62                   2            2011      Blend  ...   \n",
       "2       16.00        0.00                   3            1999     Growth  ...   \n",
       "3       11.57        1.38                   4            2000     Growth  ...   \n",
       "4       11.62        0.66                   4            2012      Blend  ...   \n",
       "\n",
       "  fund_sharpe_ratio_5years category_sharpe_ratio_5years  \\\n",
       "0                     0.31                         0.00   \n",
       "1                     0.62                         0.01   \n",
       "2                     0.86                         0.01   \n",
       "3                     0.63                         0.01   \n",
       "4                     0.47                         0.00   \n",
       "\n",
       "   fund_sharpe_ratio_10years  category_sharpe_ratio_10years  \\\n",
       "0                       0.73                           0.01   \n",
       "1                       0.97                           0.01   \n",
       "2                       1.01                           0.01   \n",
       "3                       1.00                           0.01   \n",
       "4                        NaN                           0.01   \n",
       "\n",
       "   fund_treynor_ratio_3years  category_treynor_ratio_3years  \\\n",
       "0                       5.05                           0.05   \n",
       "1                      11.55                           0.11   \n",
       "2                      12.65                           0.13   \n",
       "3                       5.77                           0.05   \n",
       "4                       4.50                           0.04   \n",
       "\n",
       "   fund_treynor_ratio_5years  category_treynor_ratio_5years  \\\n",
       "0                       2.26                           0.02   \n",
       "1                       6.91                           0.08   \n",
       "2                      10.22                           0.10   \n",
       "3                       4.14                           0.03   \n",
       "4                       2.98                           0.03   \n",
       "\n",
       "   fund_treynor_ratio_10years  category_treynor_ratio_10years  \n",
       "0                        6.71                            0.07  \n",
       "1                       12.77                            0.14  \n",
       "2                       13.44                            0.15  \n",
       "3                        8.24                            0.08  \n",
       "4                         NaN                            0.09  \n",
       "\n",
       "[5 rows x 125 columns]"
      ]
     },
     "execution_count": 45,
     "metadata": {},
     "output_type": "execute_result"
    }
   ],
   "source": [
    "mf.head()"
   ]
  },
  {
   "cell_type": "code",
   "execution_count": null,
   "metadata": {},
   "outputs": [],
   "source": []
  },
  {
   "cell_type": "markdown",
   "metadata": {},
   "source": [
    "### Replace missing values in string columns and float columns."
   ]
  },
  {
   "cell_type": "markdown",
   "metadata": {},
   "source": [
    "**Fill string missing values.**"
   ]
  },
  {
   "cell_type": "code",
   "execution_count": 47,
   "metadata": {},
   "outputs": [],
   "source": [
    "# fill in string missing values\n",
    "mf[['investment', 'size', 'median_market_cap']] = mf[['investment', 'size', 'median_market_cap']].fillna('FILL')"
   ]
  },
  {
   "cell_type": "code",
   "execution_count": 48,
   "metadata": {},
   "outputs": [
    {
     "name": "stdout",
     "output_type": "stream",
     "text": [
      "net_assets has 121 missing value(s)\n",
      "ytd_return has 110 missing value(s)\n",
      "fund_yield has 129 missing value(s)\n",
      "portfolio_cash has 115 missing value(s)\n",
      "portfolio_stocks has 115 missing value(s)\n",
      "portfolio_bonds has 115 missing value(s)\n",
      "portfolio_others has 115 missing value(s)\n",
      "portfolio_preferred has 115 missing value(s)\n",
      "portfolio_convertable has 115 missing value(s)\n",
      "price_earnings has 9010 missing value(s)\n",
      "price_book has 115 missing value(s)\n",
      "price_sales has 17158 missing value(s)\n",
      "price_cashflow has 9010 missing value(s)\n",
      "basic_materials has 115 missing value(s)\n",
      "consumer_cyclical has 115 missing value(s)\n",
      "financial_services has 115 missing value(s)\n",
      "real_estate has 115 missing value(s)\n",
      "consumer_defensive has 115 missing value(s)\n",
      "healthcare has 115 missing value(s)\n",
      "utilities has 115 missing value(s)\n",
      "communication_services has 115 missing value(s)\n",
      "energy has 115 missing value(s)\n",
      "industrials has 115 missing value(s)\n",
      "technology has 115 missing value(s)\n",
      "bond_maturity has 17113 missing value(s)\n",
      "bond_duration has 15316 missing value(s)\n",
      "rating_us_government has 115 missing value(s)\n",
      "rating_aaa has 115 missing value(s)\n",
      "rating_aa has 115 missing value(s)\n",
      "rating_a has 115 missing value(s)\n",
      "rating_bbb has 115 missing value(s)\n",
      "rating_bb has 115 missing value(s)\n",
      "rating_b has 115 missing value(s)\n",
      "rating_below_b has 115 missing value(s)\n",
      "rating_others has 115 missing value(s)\n",
      "morningstar_return_rating has 1 missing value(s)\n",
      "fund_return_ytd has 117 missing value(s)\n",
      "category_return_ytd has 117 missing value(s)\n",
      "fund_return_1month has 117 missing value(s)\n",
      "category_return_1month has 117 missing value(s)\n",
      "fund_return_3months has 117 missing value(s)\n",
      "category_return_3months has 117 missing value(s)\n",
      "fund_return_1year has 117 missing value(s)\n",
      "category_return_1year has 117 missing value(s)\n",
      "fund_return_3years has 117 missing value(s)\n",
      "category_return_3years has 117 missing value(s)\n",
      "fund_return_5years has 117 missing value(s)\n",
      "category_return_5years has 117 missing value(s)\n",
      "fund_return_10years has 117 missing value(s)\n",
      "category_return_10years has 117 missing value(s)\n",
      "fund_return_2018 has 954 missing value(s)\n",
      "category_return_2018 has 817 missing value(s)\n",
      "fund_return_2017 has 2586 missing value(s)\n",
      "category_return_2017 has 1446 missing value(s)\n",
      "fund_return_2016 has 3980 missing value(s)\n",
      "category_return_2016 has 3133 missing value(s)\n",
      "fund_return_2015 has 5759 missing value(s)\n",
      "category_return_2015 has 4653 missing value(s)\n",
      "fund_return_2014 has 7298 missing value(s)\n",
      "category_return_2014 has 6262 missing value(s)\n",
      "fund_return_2013 has 8643 missing value(s)\n",
      "category_return_2013 has 7732 missing value(s)\n",
      "fund_return_2012 has 10110 missing value(s)\n",
      "category_return_2012 has 9236 missing value(s)\n",
      "fund_return_2011 has 11302 missing value(s)\n",
      "category_return_2011 has 10661 missing value(s)\n",
      "fund_return_2010 has 12420 missing value(s)\n",
      "category_return_2010 has 11679 missing value(s)\n",
      "morningstar_risk_rating has 2 missing value(s)\n",
      "years_up has 1838 missing value(s)\n",
      "years_down has 1658 missing value(s)\n",
      "fund_alpha_3years has 1669 missing value(s)\n",
      "category_alpha_3years has 108 missing value(s)\n",
      "fund_alpha_5years has 3894 missing value(s)\n",
      "category_alpha_5years has 108 missing value(s)\n",
      "fund_alpha_10years has 8686 missing value(s)\n",
      "category_alpha_10years has 108 missing value(s)\n",
      "fund_beta_3years has 1669 missing value(s)\n",
      "category_beta_3years has 108 missing value(s)\n",
      "fund_beta_5years has 3894 missing value(s)\n",
      "category_beta_5years has 108 missing value(s)\n",
      "fund_beta_10years has 8686 missing value(s)\n",
      "category_beta_10years has 108 missing value(s)\n",
      "fund_mean_annual_return_3years has 1669 missing value(s)\n",
      "category_mean_annual_return_3years has 108 missing value(s)\n",
      "fund_mean_annual_return_5years has 3894 missing value(s)\n",
      "category_mean_annual_return_5years has 108 missing value(s)\n",
      "fund_mean_annual_return_10years has 8686 missing value(s)\n",
      "category_mean_annual_return_10years has 108 missing value(s)\n",
      "fund_r_squared_3years has 1669 missing value(s)\n",
      "category_r_squared_3years has 108 missing value(s)\n",
      "fund_r_squared_5years has 3894 missing value(s)\n",
      "category_r_squared_5years has 108 missing value(s)\n",
      "fund_r_squared_10years has 8686 missing value(s)\n",
      "category_r_squared_10years has 108 missing value(s)\n",
      "fund_standard_deviation_3years has 1669 missing value(s)\n",
      "category_standard_deviation_3years has 108 missing value(s)\n",
      "fund_standard_deviation_5years has 3894 missing value(s)\n",
      "category_standard_deviation_5years has 108 missing value(s)\n",
      "fund_standard_deviation_10years has 8686 missing value(s)\n",
      "category_standard_deviation_10years has 108 missing value(s)\n",
      "fund_sharpe_ratio_3years has 1669 missing value(s)\n",
      "category_sharpe_ratio_3years has 108 missing value(s)\n",
      "fund_sharpe_ratio_5years has 3894 missing value(s)\n",
      "category_sharpe_ratio_5years has 108 missing value(s)\n",
      "fund_sharpe_ratio_10years has 8686 missing value(s)\n",
      "category_sharpe_ratio_10years has 108 missing value(s)\n",
      "fund_treynor_ratio_3years has 10033 missing value(s)\n",
      "category_treynor_ratio_3years has 108 missing value(s)\n",
      "fund_treynor_ratio_5years has 11291 missing value(s)\n",
      "category_treynor_ratio_5years has 108 missing value(s)\n",
      "fund_treynor_ratio_10years has 9198 missing value(s)\n",
      "category_treynor_ratio_10years has 108 missing value(s)\n"
     ]
    }
   ],
   "source": [
    "for c in mf.columns:\n",
    "    miss = mf[c].isnull().sum()\n",
    "    if miss>0:\n",
    "        print(\"{} has {} missing value(s)\".format(c,miss))"
   ]
  },
  {
   "cell_type": "code",
   "execution_count": 49,
   "metadata": {},
   "outputs": [
    {
     "data": {
      "text/plain": [
       "Blend     10420\n",
       "Growth     6760\n",
       "Value      6626\n",
       "FILL       1502\n",
       "Name: investment, dtype: int64"
      ]
     },
     "execution_count": 49,
     "metadata": {},
     "output_type": "execute_result"
    }
   ],
   "source": [
    "mf['investment'].value_counts()"
   ]
  },
  {
   "cell_type": "code",
   "execution_count": null,
   "metadata": {},
   "outputs": [],
   "source": []
  },
  {
   "cell_type": "markdown",
   "metadata": {},
   "source": [
    "### Impute mean for missing numerical values."
   ]
  },
  {
   "cell_type": "code",
   "execution_count": 50,
   "metadata": {},
   "outputs": [],
   "source": [
    "# now fill all missing numerical values with mean\n",
    "# https://stackoverflow.com/questions/18689823/pandas-dataframe-replace-nan-values-with-average-of-columns\n",
    "mf = mf.fillna(mf.mean())\n",
    "#mf[['investment', 'size']] = mf[['investment', 'size']].fillna('FILL')"
   ]
  },
  {
   "cell_type": "code",
   "execution_count": 51,
   "metadata": {},
   "outputs": [
    {
     "data": {
      "text/plain": [
       "0"
      ]
     },
     "execution_count": 51,
     "metadata": {},
     "output_type": "execute_result"
    }
   ],
   "source": [
    "mf['fund_return_ytd'].isnull().sum()"
   ]
  },
  {
   "cell_type": "code",
   "execution_count": 52,
   "metadata": {},
   "outputs": [],
   "source": [
    "for c in mf.columns:\n",
    "    miss = mf[c].isnull().sum()\n",
    "    if miss>0:\n",
    "        print(\"{} has {} missing value(s)\".format(c,miss))"
   ]
  },
  {
   "cell_type": "code",
   "execution_count": null,
   "metadata": {},
   "outputs": [],
   "source": []
  },
  {
   "cell_type": "markdown",
   "metadata": {},
   "source": [
    "### Remove duplicates."
   ]
  },
  {
   "cell_type": "code",
   "execution_count": 54,
   "metadata": {},
   "outputs": [
    {
     "data": {
      "text/plain": [
       "(25308, 125)"
      ]
     },
     "execution_count": 54,
     "metadata": {},
     "output_type": "execute_result"
    }
   ],
   "source": [
    "# check for duplicate columns\n",
    "# original shape\n",
    "mf.shape"
   ]
  },
  {
   "cell_type": "code",
   "execution_count": 55,
   "metadata": {},
   "outputs": [
    {
     "data": {
      "text/plain": [
       "(25308, 125)"
      ]
     },
     "execution_count": 55,
     "metadata": {},
     "output_type": "execute_result"
    }
   ],
   "source": [
    "# https://stackoverflow.com/questions/14984119/python-pandas-remove-duplicate-columns\n",
    "# this tests for duplicate column names and there are none\n",
    "mf = mf.loc[:,~mf.columns.duplicated()]\n",
    "mf.shape"
   ]
  },
  {
   "cell_type": "code",
   "execution_count": 55,
   "metadata": {},
   "outputs": [],
   "source": [
    "# check for duplicate columns by values\n",
    "mf = mf.T.drop_duplicates().T\n"
   ]
  },
  {
   "cell_type": "code",
   "execution_count": 56,
   "metadata": {},
   "outputs": [
    {
     "data": {
      "text/plain": [
       "(25308, 124)"
      ]
     },
     "execution_count": 56,
     "metadata": {},
     "output_type": "execute_result"
    }
   ],
   "source": [
    "# new shape after removing duplicate column\n",
    "mf.shape"
   ]
  },
  {
   "cell_type": "code",
   "execution_count": 57,
   "metadata": {},
   "outputs": [
    {
     "name": "stdout",
     "output_type": "stream",
     "text": [
      "Duplicate Rows except first occurrence based on all columns are :\n"
     ]
    },
    {
     "data": {
      "text/html": [
       "<div>\n",
       "<style scoped>\n",
       "    .dataframe tbody tr th:only-of-type {\n",
       "        vertical-align: middle;\n",
       "    }\n",
       "\n",
       "    .dataframe tbody tr th {\n",
       "        vertical-align: top;\n",
       "    }\n",
       "\n",
       "    .dataframe thead th {\n",
       "        text-align: right;\n",
       "    }\n",
       "</style>\n",
       "<table border=\"1\" class=\"dataframe\">\n",
       "  <thead>\n",
       "    <tr style=\"text-align: right;\">\n",
       "      <th></th>\n",
       "      <th>fund_name</th>\n",
       "      <th>fund_extended_name</th>\n",
       "      <th>category</th>\n",
       "      <th>fund_family</th>\n",
       "      <th>net_assets</th>\n",
       "      <th>ytd_return</th>\n",
       "      <th>fund_yield</th>\n",
       "      <th>morningstar_rating</th>\n",
       "      <th>inception_date</th>\n",
       "      <th>investment</th>\n",
       "      <th>...</th>\n",
       "      <th>fund_sharpe_ratio_5years</th>\n",
       "      <th>category_sharpe_ratio_5years</th>\n",
       "      <th>fund_sharpe_ratio_10years</th>\n",
       "      <th>category_sharpe_ratio_10years</th>\n",
       "      <th>fund_treynor_ratio_3years</th>\n",
       "      <th>category_treynor_ratio_3years</th>\n",
       "      <th>fund_treynor_ratio_5years</th>\n",
       "      <th>category_treynor_ratio_5years</th>\n",
       "      <th>fund_treynor_ratio_10years</th>\n",
       "      <th>category_treynor_ratio_10years</th>\n",
       "    </tr>\n",
       "  </thead>\n",
       "  <tbody>\n",
       "  </tbody>\n",
       "</table>\n",
       "<p>0 rows × 124 columns</p>\n",
       "</div>"
      ],
      "text/plain": [
       "Empty DataFrame\n",
       "Columns: [fund_name, fund_extended_name, category, fund_family, net_assets, ytd_return, fund_yield, morningstar_rating, inception_date, investment, size, currency, net_annual_expense_ratio_fund, net_annual_expense_ratio_category, portfolio_cash, portfolio_stocks, portfolio_bonds, portfolio_others, portfolio_preferred, portfolio_convertable, price_earnings, price_book, price_sales, price_cashflow, median_market_cap, basic_materials, consumer_cyclical, financial_services, real_estate, consumer_defensive, healthcare, utilities, communication_services, energy, industrials, technology, bond_maturity, bond_duration, rating_us_government, rating_aaa, rating_aa, rating_a, rating_bbb, rating_bb, rating_b, rating_below_b, rating_others, morningstar_return_rating, fund_return_ytd, category_return_ytd, fund_return_1month, category_return_1month, fund_return_3months, fund_return_1year, category_return_1year, fund_return_3years, category_return_3years, fund_return_5years, category_return_5years, fund_return_10years, category_return_10years, fund_return_2018, category_return_2018, fund_return_2017, category_return_2017, fund_return_2016, category_return_2016, fund_return_2015, category_return_2015, fund_return_2014, category_return_2014, fund_return_2013, category_return_2013, fund_return_2012, category_return_2012, fund_return_2011, category_return_2011, fund_return_2010, category_return_2010, morningstar_risk_rating, years_up, years_down, fund_alpha_3years, category_alpha_3years, fund_alpha_5years, category_alpha_5years, fund_alpha_10years, category_alpha_10years, fund_beta_3years, category_beta_3years, fund_beta_5years, category_beta_5years, fund_beta_10years, category_beta_10years, fund_mean_annual_return_3years, category_mean_annual_return_3years, fund_mean_annual_return_5years, category_mean_annual_return_5years, fund_mean_annual_return_10years, category_mean_annual_return_10years, ...]\n",
       "Index: []\n",
       "\n",
       "[0 rows x 124 columns]"
      ]
     },
     "execution_count": 57,
     "metadata": {},
     "output_type": "execute_result"
    }
   ],
   "source": [
    "# Select duplicate rows except first occurrence based on all columns\n",
    "# https://thispointer.com/pandas-find-duplicate-rows-in-a-dataframe-based-on-all-or-selected-columns-using-dataframe-duplicated-in-python/\n",
    "duplicateRowsDF = mf[mf.duplicated()]\n",
    "print(\"Duplicate Rows except first occurrence based on all columns are :\")\n",
    "duplicateRowsDF"
   ]
  },
  {
   "cell_type": "code",
   "execution_count": null,
   "metadata": {},
   "outputs": [],
   "source": []
  },
  {
   "cell_type": "markdown",
   "metadata": {},
   "source": [
    "### Remove Outlier"
   ]
  },
  {
   "cell_type": "markdown",
   "metadata": {},
   "source": [
    "**Start by looking for outliers with histograms and value counts.**"
   ]
  },
  {
   "cell_type": "code",
   "execution_count": 60,
   "metadata": {},
   "outputs": [
    {
     "data": {
      "text/plain": [
       "<matplotlib.axes._subplots.AxesSubplot at 0x299876b92c8>"
      ]
     },
     "execution_count": 60,
     "metadata": {},
     "output_type": "execute_result"
    },
    {
     "data": {
      "image/png": "[encoded data removed]",
      "text/plain": [
       "<Figure size 432x288 with 1 Axes>"
      ]
     },
     "metadata": {
      "needs_background": "light"
     },
     "output_type": "display_data"
    }
   ],
   "source": [
    "# histogram did not show outlier, but ...\n",
    "mf['morningstar_return_rating'].hist()"
   ]
  },
  {
   "cell_type": "code",
   "execution_count": 61,
   "metadata": {},
   "outputs": [
    {
     "data": {
      "text/plain": [
       "3.000000    8560\n",
       "4.000000    5805\n",
       "2.000000    5385\n",
       "5.000000    2033\n",
       "0.000000    1824\n",
       "1.000000    1700\n",
       "2.826688       1\n",
       "Name: morningstar_return_rating, dtype: int64"
      ]
     },
     "execution_count": 61,
     "metadata": {},
     "output_type": "execute_result"
    }
   ],
   "source": [
    "# the value counts check shows an outlier because all morningstar ratings are whole numbers\n",
    "mf['morningstar_return_rating'].value_counts()"
   ]
  },
  {
   "cell_type": "code",
   "execution_count": 59,
   "metadata": {},
   "outputs": [
    {
     "data": {
      "text/plain": [
       "(25308, 124)"
      ]
     },
     "execution_count": 59,
     "metadata": {},
     "output_type": "execute_result"
    }
   ],
   "source": [
    "mf.shape"
   ]
  },
  {
   "cell_type": "code",
   "execution_count": 60,
   "metadata": {},
   "outputs": [],
   "source": [
    "# drop morningstar_return_rating outlier observation\n",
    "#dfClaims[dfClaims.umbrella_limit >= 0]\n",
    "mf.drop(mf[(mf['morningstar_return_rating'] < 3) & (mf['morningstar_return_rating'] > 2)].index, inplace = True)\n"
   ]
  },
  {
   "cell_type": "code",
   "execution_count": 61,
   "metadata": {},
   "outputs": [
    {
     "data": {
      "text/plain": [
       "3.0    8560\n",
       "4.0    5805\n",
       "2.0    5385\n",
       "5.0    2033\n",
       "0.0    1824\n",
       "1.0    1700\n",
       "Name: morningstar_return_rating, dtype: int64"
      ]
     },
     "execution_count": 61,
     "metadata": {},
     "output_type": "execute_result"
    }
   ],
   "source": [
    "mf['morningstar_return_rating'].value_counts()"
   ]
  },
  {
   "cell_type": "code",
   "execution_count": null,
   "metadata": {},
   "outputs": [],
   "source": []
  },
  {
   "cell_type": "code",
   "execution_count": 65,
   "metadata": {},
   "outputs": [],
   "source": [
    "# export datafram to a csv file\n",
    "mf.to_csv (r'C:\\dev\\code\\540FinalProject\\flat_dataframe.csv', index = False, header=True)"
   ]
  },
  {
   "cell_type": "code",
   "execution_count": null,
   "metadata": {},
   "outputs": [],
   "source": []
  },
  {
   "cell_type": "code",
   "execution_count": null,
   "metadata": {},
   "outputs": [],
   "source": []
  },
  {
   "cell_type": "code",
   "execution_count": null,
   "metadata": {},
   "outputs": [],
   "source": []
  }
 ],
 "metadata": {
  "kernelspec": {
   "display_name": "Python 3",
   "language": "python",
   "name": "python3"
  },
  "language_info": {
   "codemirror_mode": {
    "name": "ipython",
    "version": 3
   },
   "file_extension": ".py",
   "mimetype": "text/x-python",
   "name": "python",
   "nbconvert_exporter": "python",
   "pygments_lexer": "ipython3",
   "version": "3.7.6"
  }
 },
 "nbformat": 4,
 "nbformat_minor": 4
}
