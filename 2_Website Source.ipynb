{
 "cells": [
  {
   "cell_type": "markdown",
   "metadata": {},
   "source": [
    "# Data Collection and Preparation"
   ]
  },
  {
   "cell_type": "markdown",
   "metadata": {},
   "source": [
    "# Mary Donovan Martello"
   ]
  },
  {
   "cell_type": "markdown",
   "metadata": {},
   "source": [
    "## The first part of this project consisted of collecting, cleaning and preparing data from three different sources: a flat file, a website (collected by scraping the website), and an API. The final product included joining all three sources on the same key, storing them in a SQLite database and executing SQL commands. This notebook includes scraping a website for data and cleaning the data."
   ]
  },
  {
   "cell_type": "markdown",
   "metadata": {},
   "source": [
    "# Part 2:  Website Data Source / Cleaning"
   ]
  },
  {
   "cell_type": "code",
   "execution_count": null,
   "metadata": {},
   "outputs": [],
   "source": []
  },
  {
   "cell_type": "code",
   "execution_count": 1,
   "metadata": {},
   "outputs": [],
   "source": [
    "\n",
    "%matplotlib inline\n",
    "\n",
    "# import libraries\n",
    "\n",
    "import numpy as np\n",
    "import pandas as pd\n",
    "import matplotlib.pyplot as plt\n",
    "from bs4 import BeautifulSoup\n"
   ]
  },
  {
   "cell_type": "code",
   "execution_count": null,
   "metadata": {},
   "outputs": [],
   "source": []
  },
  {
   "cell_type": "markdown",
   "metadata": {},
   "source": [
    "## The data for this notebook is mutual fund financial performance located at: https://charts.ussif.org/mfpc/"
   ]
  },
  {
   "cell_type": "markdown",
   "metadata": {},
   "source": [
    "### Use Beautiful Soup to scrape the website."
   ]
  },
  {
   "cell_type": "code",
   "execution_count": 2,
   "metadata": {},
   "outputs": [],
   "source": [
    "#Read the page using bs4\n",
    "\n",
    "with open(\"Mutual Fund Performance Chart _ US SIF.html\", \"r\", encoding = 'utf-8') as fd:\n",
    "    soup = BeautifulSoup(fd)    \n",
    "    #print(soup.prettify())"
   ]
  },
  {
   "cell_type": "code",
   "execution_count": 3,
   "metadata": {},
   "outputs": [
    {
     "name": "stdout",
     "output_type": "stream",
     "text": [
      "Total number of <table> --- 10\n"
     ]
    }
   ],
   "source": [
    "# Find the table structure using bs4\n",
    "\n",
    "allTables = soup.find_all('table')\n",
    "print(\"Total number of <table> --- {}\".format(len(allTables)))"
   ]
  },
  {
   "cell_type": "code",
   "execution_count": 4,
   "metadata": {},
   "outputs": [],
   "source": [
    "# Find the right table using bs4\n",
    "myTable = soup.find(\"table\", attrs={\"id\" : \"FinancialPerformance\"})"
   ]
  },
  {
   "cell_type": "code",
   "execution_count": null,
   "metadata": {},
   "outputs": [],
   "source": []
  },
  {
   "cell_type": "markdown",
   "metadata": {},
   "source": [
    "## Separate the Header Titles and the Corresponding Data"
   ]
  },
  {
   "cell_type": "markdown",
   "metadata": {},
   "source": [
    "**Find the first table row in the found table.**"
   ]
  },
  {
   "cell_type": "code",
   "execution_count": 5,
   "metadata": {},
   "outputs": [],
   "source": [
    "#  1. find the first table row in the found table\n",
    "titles = myTable.tbody.findAll('tr', recursive=False)[0]"
   ]
  },
  {
   "cell_type": "markdown",
   "metadata": {},
   "source": [
    "**Get a list of header cells; the header cells have the header titles in them.**"
   ]
  },
  {
   "cell_type": "code",
   "execution_count": 6,
   "metadata": {},
   "outputs": [
    {
     "data": {
      "text/plain": [
       "['Ticker',\n",
       " 'Fund Name',\n",
       " 'Fund Type',\n",
       " 'InceptionMonth',\n",
       " 'AUM(US$ millions)',\n",
       " 'YTD %',\n",
       " '1 yrAvg %',\n",
       " '3 yrAvg %',\n",
       " '5 yrAvg %',\n",
       " '10 yrAvg %',\n",
       " 'Prev YrRtn %',\n",
       " 'MgmtFee %',\n",
       " 'ExpRatio %',\n",
       " 'StdDev',\n",
       " 'Benchmark Used']"
      ]
     },
     "execution_count": 6,
     "metadata": {},
     "output_type": "execute_result"
    }
   ],
   "source": [
    "#  2. get a list of header cells (th) in the first table row found; the header cells have the header titles in them\n",
    "header = [th.getText().strip() for th in titles.findAll('th')]\n",
    "header"
   ]
  },
  {
   "cell_type": "code",
   "execution_count": null,
   "metadata": {},
   "outputs": [],
   "source": []
  },
  {
   "cell_type": "markdown",
   "metadata": {},
   "source": [
    "**Get all the data.**"
   ]
  },
  {
   "cell_type": "code",
   "execution_count": 7,
   "metadata": {},
   "outputs": [],
   "source": [
    "# 3. Get all the data\n",
    "data = myTable.findAll('tbody', recursive=False)"
   ]
  },
  {
   "cell_type": "markdown",
   "metadata": {},
   "source": [
    "**Put the data into a list.**"
   ]
  },
  {
   "cell_type": "code",
   "execution_count": 8,
   "metadata": {},
   "outputs": [],
   "source": [
    "# 4. Put the data into a list\n",
    "dataList = []\n",
    "for tr in data:\n",
    "    dataList.append(myTable.tbody.findAll('tr'))"
   ]
  },
  {
   "cell_type": "markdown",
   "metadata": {},
   "source": [
    "**Get the data cells from the data list.**"
   ]
  },
  {
   "cell_type": "code",
   "execution_count": 9,
   "metadata": {},
   "outputs": [],
   "source": [
    "# 5. Get the data cells from the data list; these have the data that make up the chart.\n",
    "dataCells = dataList[0][1].findAll('td')[0:]"
   ]
  },
  {
   "cell_type": "markdown",
   "metadata": {},
   "source": [
    "**Extract the text from the data cells.**"
   ]
  },
  {
   "cell_type": "code",
   "execution_count": 10,
   "metadata": {},
   "outputs": [],
   "source": [
    "# 6. extract the text from the data cells\n",
    "dataCellsText = [td.get_text().strip() for td in tr.findAll('td')]"
   ]
  },
  {
   "cell_type": "code",
   "execution_count": null,
   "metadata": {},
   "outputs": [],
   "source": []
  },
  {
   "cell_type": "markdown",
   "metadata": {},
   "source": [
    "### Convert the data from a list to an array."
   ]
  },
  {
   "cell_type": "code",
   "execution_count": 11,
   "metadata": {},
   "outputs": [],
   "source": [
    "# Convert the data from a list to an array; data from website is in the shape of (1, 2640) instead of (176, 15)\n",
    "rowsNo = int(len(dataCellsText)/15)\n",
    "colsNo = int(len(header))\n",
    "dataArray = np.array(dataCellsText)\n",
    "shape = (rowsNo, colsNo)\n",
    "finalData = dataArray.reshape(shape)"
   ]
  },
  {
   "cell_type": "code",
   "execution_count": null,
   "metadata": {},
   "outputs": [],
   "source": []
  },
  {
   "cell_type": "markdown",
   "metadata": {},
   "source": [
    "### Convert the array to a Pandas Dataframe."
   ]
  },
  {
   "cell_type": "code",
   "execution_count": 12,
   "metadata": {},
   "outputs": [
    {
     "data": {
      "text/html": [
       "<div>\n",
       "<style scoped>\n",
       "    .dataframe tbody tr th:only-of-type {\n",
       "        vertical-align: middle;\n",
       "    }\n",
       "\n",
       "    .dataframe tbody tr th {\n",
       "        vertical-align: top;\n",
       "    }\n",
       "\n",
       "    .dataframe thead th {\n",
       "        text-align: right;\n",
       "    }\n",
       "</style>\n",
       "<table border=\"1\" class=\"dataframe\">\n",
       "  <thead>\n",
       "    <tr style=\"text-align: right;\">\n",
       "      <th></th>\n",
       "      <th>Ticker</th>\n",
       "      <th>Fund Name</th>\n",
       "      <th>Fund Type</th>\n",
       "      <th>InceptionMonth</th>\n",
       "      <th>AUM(US$ millions)</th>\n",
       "      <th>YTD %</th>\n",
       "      <th>1 yrAvg %</th>\n",
       "      <th>3 yrAvg %</th>\n",
       "      <th>5 yrAvg %</th>\n",
       "      <th>10 yrAvg %</th>\n",
       "      <th>Prev YrRtn %</th>\n",
       "      <th>MgmtFee %</th>\n",
       "      <th>ExpRatio %</th>\n",
       "      <th>StdDev</th>\n",
       "      <th>Benchmark Used</th>\n",
       "    </tr>\n",
       "  </thead>\n",
       "  <tbody>\n",
       "    <tr>\n",
       "      <th>0</th>\n",
       "      <td>SSIAX</td>\n",
       "      <td>1919 Socially Responsive Balanced Fund - A</td>\n",
       "      <td>Balanced</td>\n",
       "      <td>11/1992</td>\n",
       "      <td>$237.41M</td>\n",
       "      <td>-3.05</td>\n",
       "      <td>5.61</td>\n",
       "      <td>9.52</td>\n",
       "      <td>7.22</td>\n",
       "      <td>7.94</td>\n",
       "      <td>24.69</td>\n",
       "      <td>0.64</td>\n",
       "      <td>1.25</td>\n",
       "      <td>14.97</td>\n",
       "      <td>Blend: 60% S&amp;P 500 - 40% BC Aggregate</td>\n",
       "    </tr>\n",
       "    <tr>\n",
       "      <th>1</th>\n",
       "      <td>SESLX</td>\n",
       "      <td>1919 Socially Responsive Balanced Fund - C</td>\n",
       "      <td>Balanced</td>\n",
       "      <td>5/1993</td>\n",
       "      <td>$237.41M</td>\n",
       "      <td>-3.26</td>\n",
       "      <td>4.89</td>\n",
       "      <td>8.75</td>\n",
       "      <td>6.45</td>\n",
       "      <td>7.2</td>\n",
       "      <td>23.78</td>\n",
       "      <td>0.64</td>\n",
       "      <td>1.97</td>\n",
       "      <td>14.98</td>\n",
       "      <td>Blend: 60% S&amp;P 500 - 40% BC Aggregate</td>\n",
       "    </tr>\n",
       "    <tr>\n",
       "      <th>2</th>\n",
       "      <td>LMRNX</td>\n",
       "      <td>1919 Socially Responsive Balanced Fund - I</td>\n",
       "      <td>Balanced</td>\n",
       "      <td>7/2008</td>\n",
       "      <td>$237.41M</td>\n",
       "      <td>-2.94</td>\n",
       "      <td>6</td>\n",
       "      <td>9.88</td>\n",
       "      <td>7.53</td>\n",
       "      <td>8.23</td>\n",
       "      <td>25.1</td>\n",
       "      <td>0.64</td>\n",
       "      <td>0.96</td>\n",
       "      <td>14.99</td>\n",
       "      <td>Blend: 60% S&amp;P 500 - 40% BC Aggregate</td>\n",
       "    </tr>\n",
       "    <tr>\n",
       "      <th>3</th>\n",
       "      <td>ACASX</td>\n",
       "      <td>Access Capital Community Investment Fund A</td>\n",
       "      <td>Bond(Fixed Inc)</td>\n",
       "      <td>1/2009</td>\n",
       "      <td>$544.77M</td>\n",
       "      <td>2.87</td>\n",
       "      <td>6.56</td>\n",
       "      <td>2.82</td>\n",
       "      <td>2.13</td>\n",
       "      <td>2.49</td>\n",
       "      <td>5.63</td>\n",
       "      <td>0.35</td>\n",
       "      <td>1.11</td>\n",
       "      <td>1.58</td>\n",
       "      <td>Barclays Capital US Securitized Bond</td>\n",
       "    </tr>\n",
       "    <tr>\n",
       "      <th>4</th>\n",
       "      <td>ACCSX</td>\n",
       "      <td>Access Capital Community Investment Fund I</td>\n",
       "      <td>Bond(Fixed Inc)</td>\n",
       "      <td>7/1998</td>\n",
       "      <td>$544.77M</td>\n",
       "      <td>2.87</td>\n",
       "      <td>6.82</td>\n",
       "      <td>3.13</td>\n",
       "      <td>2.37</td>\n",
       "      <td>2.64</td>\n",
       "      <td>6.12</td>\n",
       "      <td>0.35</td>\n",
       "      <td>0.66</td>\n",
       "      <td>1.57</td>\n",
       "      <td>Barclays Capital US Securitized Bond</td>\n",
       "    </tr>\n",
       "    <tr>\n",
       "      <th>5</th>\n",
       "      <td>APPLX</td>\n",
       "      <td>Appleseed Fund</td>\n",
       "      <td>Int'lGlobal</td>\n",
       "      <td>12/2006</td>\n",
       "      <td>$104.34M</td>\n",
       "      <td>-25.04</td>\n",
       "      <td>-16.98</td>\n",
       "      <td>-2.64</td>\n",
       "      <td>-1.61</td>\n",
       "      <td>2.51</td>\n",
       "      <td>15.68</td>\n",
       "      <td>0.85</td>\n",
       "      <td>1.2</td>\n",
       "      <td>32.54</td>\n",
       "      <td>MSCI World</td>\n",
       "    </tr>\n",
       "    <tr>\n",
       "      <th>6</th>\n",
       "      <td>APPIX</td>\n",
       "      <td>Appleseed Fund Institutional</td>\n",
       "      <td>Int'lGlobal</td>\n",
       "      <td>2/2011</td>\n",
       "      <td>$104.34M</td>\n",
       "      <td>-25</td>\n",
       "      <td>-16.87</td>\n",
       "      <td>-2.48</td>\n",
       "      <td>-1.43</td>\n",
       "      <td>--</td>\n",
       "      <td>15.85</td>\n",
       "      <td>0.85</td>\n",
       "      <td>1.06</td>\n",
       "      <td>32.62</td>\n",
       "      <td>MSCI World</td>\n",
       "    </tr>\n",
       "    <tr>\n",
       "      <th>7</th>\n",
       "      <td>ASUIX</td>\n",
       "      <td>Arabesque Systematic USA Fund</td>\n",
       "      <td>Balanced</td>\n",
       "      <td>5/2017</td>\n",
       "      <td>$27.75M</td>\n",
       "      <td>-12.64</td>\n",
       "      <td>-11.16</td>\n",
       "      <td>3.41</td>\n",
       "      <td>--</td>\n",
       "      <td>--</td>\n",
       "      <td>15.32</td>\n",
       "      <td>0.75</td>\n",
       "      <td>0.95</td>\n",
       "      <td>14.78</td>\n",
       "      <td>MSCI USA</td>\n",
       "    </tr>\n",
       "    <tr>\n",
       "      <th>8</th>\n",
       "      <td>CAAPX</td>\n",
       "      <td>Ariel Appreciation Fund</td>\n",
       "      <td>EquityMid-Sm Cap</td>\n",
       "      <td>12/1989</td>\n",
       "      <td>$953.56M</td>\n",
       "      <td>-22.44</td>\n",
       "      <td>-20.44</td>\n",
       "      <td>-3.63</td>\n",
       "      <td>-0.67</td>\n",
       "      <td>6.53</td>\n",
       "      <td>24.6</td>\n",
       "      <td>0.69</td>\n",
       "      <td>1.14</td>\n",
       "      <td>32.62</td>\n",
       "      <td>Russell Mid Cap Value</td>\n",
       "    </tr>\n",
       "    <tr>\n",
       "      <th>9</th>\n",
       "      <td>ARFFX</td>\n",
       "      <td>Ariel Focus Fund</td>\n",
       "      <td>AllCap</td>\n",
       "      <td>6/2005</td>\n",
       "      <td>$44.61M</td>\n",
       "      <td>-21.88</td>\n",
       "      <td>-17.23</td>\n",
       "      <td>-2.4</td>\n",
       "      <td>0.34</td>\n",
       "      <td>5.42</td>\n",
       "      <td>25.62</td>\n",
       "      <td>0.65</td>\n",
       "      <td>1</td>\n",
       "      <td>34.69</td>\n",
       "      <td>Russell 1000 Value</td>\n",
       "    </tr>\n",
       "    <tr>\n",
       "      <th>10</th>\n",
       "      <td>ARGFX</td>\n",
       "      <td>Ariel Fund</td>\n",
       "      <td>EquityMid-Sm Cap</td>\n",
       "      <td>11/1986</td>\n",
       "      <td>$1534.26M</td>\n",
       "      <td>-25.53</td>\n",
       "      <td>-24.36</td>\n",
       "      <td>-4.51</td>\n",
       "      <td>-0.46</td>\n",
       "      <td>6.79</td>\n",
       "      <td>24.67</td>\n",
       "      <td>0.58</td>\n",
       "      <td>1.02</td>\n",
       "      <td>36.46</td>\n",
       "      <td>Russell 2500 Value</td>\n",
       "    </tr>\n",
       "    <tr>\n",
       "      <th>11</th>\n",
       "      <td>REDWX</td>\n",
       "      <td>Aspiration Redwood Fund</td>\n",
       "      <td>EquityLarge Cap</td>\n",
       "      <td>11/2015</td>\n",
       "      <td>$88.31M</td>\n",
       "      <td>-17.11</td>\n",
       "      <td>-8.86</td>\n",
       "      <td>5.01</td>\n",
       "      <td>--</td>\n",
       "      <td>--</td>\n",
       "      <td>37.3</td>\n",
       "      <td>0</td>\n",
       "      <td>2.51</td>\n",
       "      <td>34.09</td>\n",
       "      <td>S&amp;P 500 Composite Total Return</td>\n",
       "    </tr>\n",
       "    <tr>\n",
       "      <th>12</th>\n",
       "      <td>BVSIX</td>\n",
       "      <td>Baywood SociallyResponsible Fund</td>\n",
       "      <td>EquityLarge Cap</td>\n",
       "      <td>1/2005</td>\n",
       "      <td>$3.33M</td>\n",
       "      <td>-21.69</td>\n",
       "      <td>-15.36</td>\n",
       "      <td>-0.63</td>\n",
       "      <td>0.74</td>\n",
       "      <td>5.18</td>\n",
       "      <td>26.56</td>\n",
       "      <td>0.7</td>\n",
       "      <td>0.87</td>\n",
       "      <td>29.92</td>\n",
       "      <td>Morningstar US Large Value TR Index</td>\n",
       "    </tr>\n",
       "    <tr>\n",
       "      <th>13</th>\n",
       "      <td>BCAIX</td>\n",
       "      <td>Boston Common International Fund</td>\n",
       "      <td>Int'lGlobal</td>\n",
       "      <td>12/2010</td>\n",
       "      <td>$234.95M</td>\n",
       "      <td>-14.07</td>\n",
       "      <td>-6.71</td>\n",
       "      <td>1.16</td>\n",
       "      <td>0.64</td>\n",
       "      <td>--</td>\n",
       "      <td>23.74</td>\n",
       "      <td>0.8</td>\n",
       "      <td>1</td>\n",
       "      <td>20</td>\n",
       "      <td>MSCI EAFE Equity</td>\n",
       "    </tr>\n",
       "    <tr>\n",
       "      <th>14</th>\n",
       "      <td>BCAMX</td>\n",
       "      <td>Boston Common Large Cap Core Equity Fund</td>\n",
       "      <td>EquityLarge Cap</td>\n",
       "      <td>4/2012</td>\n",
       "      <td>$35.07M</td>\n",
       "      <td>-9.03</td>\n",
       "      <td>-0.22</td>\n",
       "      <td>6.19</td>\n",
       "      <td>6.62</td>\n",
       "      <td>--</td>\n",
       "      <td>28.17</td>\n",
       "      <td>0.75</td>\n",
       "      <td>1</td>\n",
       "      <td>22.69</td>\n",
       "      <td>S&amp;P 500 Composite Total Return</td>\n",
       "    </tr>\n",
       "    <tr>\n",
       "      <th>15</th>\n",
       "      <td>CAAAX</td>\n",
       "      <td>Calvert Aggressive Allocation Fund A</td>\n",
       "      <td>EquitySpecialty</td>\n",
       "      <td>6/2005</td>\n",
       "      <td>$161.63M</td>\n",
       "      <td>-11.93</td>\n",
       "      <td>-3.52</td>\n",
       "      <td>4.99</td>\n",
       "      <td>4.97</td>\n",
       "      <td>7.72</td>\n",
       "      <td>27.33</td>\n",
       "      <td>0</td>\n",
       "      <td>0.43</td>\n",
       "      <td>22.2</td>\n",
       "      <td>Russell 3000</td>\n",
       "    </tr>\n",
       "    <tr>\n",
       "      <th>16</th>\n",
       "      <td>CAACX</td>\n",
       "      <td>Calvert Aggressive Allocation Fund C</td>\n",
       "      <td>EquitySpecialty</td>\n",
       "      <td>6/2005</td>\n",
       "      <td>$161.63M</td>\n",
       "      <td>-12.13</td>\n",
       "      <td>-4.23</td>\n",
       "      <td>4.2</td>\n",
       "      <td>4.13</td>\n",
       "      <td>6.64</td>\n",
       "      <td>26.38</td>\n",
       "      <td>0</td>\n",
       "      <td>1.18</td>\n",
       "      <td>22.13</td>\n",
       "      <td>Russell 3000</td>\n",
       "    </tr>\n",
       "    <tr>\n",
       "      <th>17</th>\n",
       "      <td>CSIFX</td>\n",
       "      <td>Calvert Balanced Portfolio A</td>\n",
       "      <td>Balanced</td>\n",
       "      <td>10/1982</td>\n",
       "      <td>$866.82M</td>\n",
       "      <td>-4.92</td>\n",
       "      <td>4.02</td>\n",
       "      <td>7.2</td>\n",
       "      <td>5.58</td>\n",
       "      <td>7.53</td>\n",
       "      <td>23.73</td>\n",
       "      <td>0.52</td>\n",
       "      <td>0.93</td>\n",
       "      <td>15.33</td>\n",
       "      <td>Russell 1000</td>\n",
       "    </tr>\n",
       "    <tr>\n",
       "      <th>18</th>\n",
       "      <td>CSGCX</td>\n",
       "      <td>Calvert Balanced Portfolio C</td>\n",
       "      <td>Balanced</td>\n",
       "      <td>3/1994</td>\n",
       "      <td>$866.82M</td>\n",
       "      <td>-5.17</td>\n",
       "      <td>3.23</td>\n",
       "      <td>6.39</td>\n",
       "      <td>4.76</td>\n",
       "      <td>6.68</td>\n",
       "      <td>22.82</td>\n",
       "      <td>0.52</td>\n",
       "      <td>1.68</td>\n",
       "      <td>15.33</td>\n",
       "      <td>Russell 1000</td>\n",
       "    </tr>\n",
       "    <tr>\n",
       "      <th>19</th>\n",
       "      <td>CBAIX</td>\n",
       "      <td>Calvert Balanced Portfolio I</td>\n",
       "      <td>Balanced</td>\n",
       "      <td>2/1999</td>\n",
       "      <td>$866.82M</td>\n",
       "      <td>-4.84</td>\n",
       "      <td>4.29</td>\n",
       "      <td>7.52</td>\n",
       "      <td>5.93</td>\n",
       "      <td>7.98</td>\n",
       "      <td>24.05</td>\n",
       "      <td>0.52</td>\n",
       "      <td>0.66</td>\n",
       "      <td>15.36</td>\n",
       "      <td>Russell 1000</td>\n",
       "    </tr>\n",
       "  </tbody>\n",
       "</table>\n",
       "</div>"
      ],
      "text/plain": [
       "   Ticker                                   Fund Name         Fund Type  \\\n",
       "0   SSIAX  1919 Socially Responsive Balanced Fund - A          Balanced   \n",
       "1   SESLX  1919 Socially Responsive Balanced Fund - C          Balanced   \n",
       "2   LMRNX  1919 Socially Responsive Balanced Fund - I          Balanced   \n",
       "3   ACASX  Access Capital Community Investment Fund A   Bond(Fixed Inc)   \n",
       "4   ACCSX  Access Capital Community Investment Fund I   Bond(Fixed Inc)   \n",
       "5   APPLX                              Appleseed Fund       Int'lGlobal   \n",
       "6   APPIX                Appleseed Fund Institutional       Int'lGlobal   \n",
       "7   ASUIX               Arabesque Systematic USA Fund          Balanced   \n",
       "8   CAAPX                     Ariel Appreciation Fund  EquityMid-Sm Cap   \n",
       "9   ARFFX                            Ariel Focus Fund            AllCap   \n",
       "10  ARGFX                                  Ariel Fund  EquityMid-Sm Cap   \n",
       "11  REDWX                     Aspiration Redwood Fund   EquityLarge Cap   \n",
       "12  BVSIX            Baywood SociallyResponsible Fund   EquityLarge Cap   \n",
       "13  BCAIX            Boston Common International Fund       Int'lGlobal   \n",
       "14  BCAMX    Boston Common Large Cap Core Equity Fund   EquityLarge Cap   \n",
       "15  CAAAX        Calvert Aggressive Allocation Fund A   EquitySpecialty   \n",
       "16  CAACX        Calvert Aggressive Allocation Fund C   EquitySpecialty   \n",
       "17  CSIFX                Calvert Balanced Portfolio A          Balanced   \n",
       "18  CSGCX                Calvert Balanced Portfolio C          Balanced   \n",
       "19  CBAIX                Calvert Balanced Portfolio I          Balanced   \n",
       "\n",
       "   InceptionMonth AUM(US$ millions)   YTD % 1 yrAvg % 3 yrAvg % 5 yrAvg %  \\\n",
       "0         11/1992          $237.41M   -3.05      5.61      9.52      7.22   \n",
       "1          5/1993          $237.41M   -3.26      4.89      8.75      6.45   \n",
       "2          7/2008          $237.41M   -2.94         6      9.88      7.53   \n",
       "3          1/2009          $544.77M    2.87      6.56      2.82      2.13   \n",
       "4          7/1998          $544.77M    2.87      6.82      3.13      2.37   \n",
       "5         12/2006          $104.34M  -25.04    -16.98     -2.64     -1.61   \n",
       "6          2/2011          $104.34M     -25    -16.87     -2.48     -1.43   \n",
       "7          5/2017           $27.75M  -12.64    -11.16      3.41        --   \n",
       "8         12/1989          $953.56M  -22.44    -20.44     -3.63     -0.67   \n",
       "9          6/2005           $44.61M  -21.88    -17.23      -2.4      0.34   \n",
       "10        11/1986         $1534.26M  -25.53    -24.36     -4.51     -0.46   \n",
       "11        11/2015           $88.31M  -17.11     -8.86      5.01        --   \n",
       "12         1/2005            $3.33M  -21.69    -15.36     -0.63      0.74   \n",
       "13        12/2010          $234.95M  -14.07     -6.71      1.16      0.64   \n",
       "14         4/2012           $35.07M   -9.03     -0.22      6.19      6.62   \n",
       "15         6/2005          $161.63M  -11.93     -3.52      4.99      4.97   \n",
       "16         6/2005          $161.63M  -12.13     -4.23       4.2      4.13   \n",
       "17        10/1982          $866.82M   -4.92      4.02       7.2      5.58   \n",
       "18         3/1994          $866.82M   -5.17      3.23      6.39      4.76   \n",
       "19         2/1999          $866.82M   -4.84      4.29      7.52      5.93   \n",
       "\n",
       "   10 yrAvg % Prev YrRtn % MgmtFee % ExpRatio % StdDev  \\\n",
       "0        7.94        24.69      0.64       1.25  14.97   \n",
       "1         7.2        23.78      0.64       1.97  14.98   \n",
       "2        8.23         25.1      0.64       0.96  14.99   \n",
       "3        2.49         5.63      0.35       1.11   1.58   \n",
       "4        2.64         6.12      0.35       0.66   1.57   \n",
       "5        2.51        15.68      0.85        1.2  32.54   \n",
       "6          --        15.85      0.85       1.06  32.62   \n",
       "7          --        15.32      0.75       0.95  14.78   \n",
       "8        6.53         24.6      0.69       1.14  32.62   \n",
       "9        5.42        25.62      0.65          1  34.69   \n",
       "10       6.79        24.67      0.58       1.02  36.46   \n",
       "11         --         37.3         0       2.51  34.09   \n",
       "12       5.18        26.56       0.7       0.87  29.92   \n",
       "13         --        23.74       0.8          1     20   \n",
       "14         --        28.17      0.75          1  22.69   \n",
       "15       7.72        27.33         0       0.43   22.2   \n",
       "16       6.64        26.38         0       1.18  22.13   \n",
       "17       7.53        23.73      0.52       0.93  15.33   \n",
       "18       6.68        22.82      0.52       1.68  15.33   \n",
       "19       7.98        24.05      0.52       0.66  15.36   \n",
       "\n",
       "                           Benchmark Used  \n",
       "0   Blend: 60% S&P 500 - 40% BC Aggregate  \n",
       "1   Blend: 60% S&P 500 - 40% BC Aggregate  \n",
       "2   Blend: 60% S&P 500 - 40% BC Aggregate  \n",
       "3    Barclays Capital US Securitized Bond  \n",
       "4    Barclays Capital US Securitized Bond  \n",
       "5                              MSCI World  \n",
       "6                              MSCI World  \n",
       "7                                MSCI USA  \n",
       "8                   Russell Mid Cap Value  \n",
       "9                      Russell 1000 Value  \n",
       "10                     Russell 2500 Value  \n",
       "11         S&P 500 Composite Total Return  \n",
       "12    Morningstar US Large Value TR Index  \n",
       "13                       MSCI EAFE Equity  \n",
       "14         S&P 500 Composite Total Return  \n",
       "15                           Russell 3000  \n",
       "16                           Russell 3000  \n",
       "17                           Russell 1000  \n",
       "18                           Russell 1000  \n",
       "19                           Russell 1000  "
      ]
     },
     "execution_count": 12,
     "metadata": {},
     "output_type": "execute_result"
    }
   ],
   "source": [
    "webDf = pd.DataFrame(finalData, columns=header)\n",
    "webDf.head(20)"
   ]
  },
  {
   "cell_type": "code",
   "execution_count": 13,
   "metadata": {},
   "outputs": [
    {
     "data": {
      "text/plain": [
       "(176, 15)"
      ]
     },
     "execution_count": 13,
     "metadata": {},
     "output_type": "execute_result"
    }
   ],
   "source": [
    "webDf.shape"
   ]
  },
  {
   "cell_type": "code",
   "execution_count": null,
   "metadata": {},
   "outputs": [],
   "source": []
  },
  {
   "cell_type": "markdown",
   "metadata": {},
   "source": [
    "### Explore the data."
   ]
  },
  {
   "cell_type": "code",
   "execution_count": 14,
   "metadata": {},
   "outputs": [
    {
     "name": "stdout",
     "output_type": "stream",
     "text": [
      "<class 'str'>\n",
      "<class 'str'>\n",
      "<class 'str'>\n",
      "<class 'str'>\n",
      "<class 'str'>\n",
      "<class 'str'>\n",
      "<class 'str'>\n",
      "<class 'str'>\n",
      "<class 'str'>\n",
      "<class 'str'>\n",
      "<class 'str'>\n",
      "<class 'str'>\n",
      "<class 'str'>\n",
      "<class 'str'>\n",
      "<class 'str'>\n"
     ]
    }
   ],
   "source": [
    "count = -1\n",
    "for c in webDf.columns:\n",
    "    count +=1\n",
    "    print(type(webDf.iloc[5, count]))\n",
    "    "
   ]
  },
  {
   "cell_type": "code",
   "execution_count": 15,
   "metadata": {},
   "outputs": [],
   "source": [
    "for c in webDf.columns:\n",
    "    miss = webDf[c].isnull().sum()\n",
    "    if miss>0:\n",
    "        print(\"{} has {} missing value(s)\".format(c,miss))"
   ]
  },
  {
   "cell_type": "code",
   "execution_count": null,
   "metadata": {},
   "outputs": [],
   "source": []
  },
  {
   "cell_type": "markdown",
   "metadata": {},
   "source": [
    "## Clean the Data"
   ]
  },
  {
   "cell_type": "markdown",
   "metadata": {},
   "source": [
    "### Replace Headers."
   ]
  },
  {
   "cell_type": "markdown",
   "metadata": {},
   "source": [
    "### Rename Column Names."
   ]
  },
  {
   "cell_type": "code",
   "execution_count": 16,
   "metadata": {},
   "outputs": [
    {
     "data": {
      "text/plain": [
       "Index(['Ticker', 'Fund Name', 'Fund Type', 'InceptionMonth',\n",
       "       'AUM(US$ millions)', 'YTD %', '1 yrAvg %', '3 yrAvg %', '5 yrAvg %',\n",
       "       '10 yrAvg %', 'Prev YrRtn %', 'MgmtFee %', 'ExpRatio %', 'StdDev',\n",
       "       'Benchmark Used'],\n",
       "      dtype='object')"
      ]
     },
     "execution_count": 16,
     "metadata": {},
     "output_type": "execute_result"
    }
   ],
   "source": [
    "webDf.columns"
   ]
  },
  {
   "cell_type": "code",
   "execution_count": 17,
   "metadata": {},
   "outputs": [],
   "source": [
    "webDf.rename({'Ticker': 'fund_name', 'Fund Name': 'fund_extended_name', 'AUM(US$ millions)': 'net_assets', \n",
    "               'InceptionMonth': 'inception_date', 'YTD %': 'fund_return_ytd', '1 yrAvg %': 'fund_return_1year', \n",
    "               '3 yrAvg %': 'fund_return_3years', '5 yrAvg %': 'fund_return_5years', '10 yrAvg %': 'fund_return_10years', \n",
    "               'ExpRatio %': 'net_annual_expense_ratio_fund'}, axis=1, inplace=True)"
   ]
  },
  {
   "cell_type": "code",
   "execution_count": 18,
   "metadata": {},
   "outputs": [
    {
     "data": {
      "text/plain": [
       "Index(['fund_name', 'fund_extended_name', 'Fund Type', 'inception_date',\n",
       "       'net_assets', 'fund_return_ytd', 'fund_return_1year',\n",
       "       'fund_return_3years', 'fund_return_5years', 'fund_return_10years',\n",
       "       'Prev YrRtn %', 'MgmtFee %', 'net_annual_expense_ratio_fund', 'StdDev',\n",
       "       'Benchmark Used'],\n",
       "      dtype='object')"
      ]
     },
     "execution_count": 18,
     "metadata": {},
     "output_type": "execute_result"
    }
   ],
   "source": [
    "webDf.columns"
   ]
  },
  {
   "cell_type": "code",
   "execution_count": null,
   "metadata": {},
   "outputs": [],
   "source": []
  },
  {
   "cell_type": "markdown",
   "metadata": {},
   "source": [
    "### Strip Strings"
   ]
  },
  {
   "cell_type": "code",
   "execution_count": 19,
   "metadata": {},
   "outputs": [
    {
     "data": {
      "text/plain": [
       "0      $237.41M\n",
       "1      $237.41M\n",
       "2      $237.41M\n",
       "3      $544.77M\n",
       "4      $544.77M\n",
       "         ...   \n",
       "171    $213.13M\n",
       "172     $60.31M\n",
       "173          --\n",
       "174     $49.55M\n",
       "175     $10.12M\n",
       "Name: net_assets, Length: 176, dtype: object"
      ]
     },
     "execution_count": 19,
     "metadata": {},
     "output_type": "execute_result"
    }
   ],
   "source": [
    "# Remove $ and M from value in 'net_assets' series\n",
    "webDf['net_assets']"
   ]
  },
  {
   "cell_type": "code",
   "execution_count": 20,
   "metadata": {},
   "outputs": [],
   "source": [
    "# Remove $ and M from value in 'net_assets' series cont.\n",
    "webDf['net_assets'] = webDf['net_assets'].map(lambda x: x[1:-1]).str.strip()"
   ]
  },
  {
   "cell_type": "code",
   "execution_count": 21,
   "metadata": {},
   "outputs": [
    {
     "data": {
      "text/plain": [
       "0      237.41\n",
       "1      237.41\n",
       "2      237.41\n",
       "3      544.77\n",
       "4      544.77\n",
       "        ...  \n",
       "171    213.13\n",
       "172     60.31\n",
       "173          \n",
       "174     49.55\n",
       "175     10.12\n",
       "Name: net_assets, Length: 176, dtype: object"
      ]
     },
     "execution_count": 21,
     "metadata": {},
     "output_type": "execute_result"
    }
   ],
   "source": [
    "webDf['net_assets']"
   ]
  },
  {
   "cell_type": "code",
   "execution_count": null,
   "metadata": {},
   "outputs": [],
   "source": []
  },
  {
   "cell_type": "markdown",
   "metadata": {},
   "source": [
    "### Replace symbols with integers"
   ]
  },
  {
   "cell_type": "code",
   "execution_count": 22,
   "metadata": {},
   "outputs": [],
   "source": [
    "# Replace '--' with 0 in all rows and columns\n",
    "webDf = webDf.replace('--', 0)"
   ]
  },
  {
   "cell_type": "code",
   "execution_count": 23,
   "metadata": {},
   "outputs": [
    {
     "data": {
      "text/plain": [
       "0"
      ]
     },
     "execution_count": 23,
     "metadata": {},
     "output_type": "execute_result"
    }
   ],
   "source": [
    "webDf.iloc[175, 6]"
   ]
  },
  {
   "cell_type": "code",
   "execution_count": null,
   "metadata": {},
   "outputs": [],
   "source": []
  },
  {
   "cell_type": "markdown",
   "metadata": {},
   "source": [
    "### Convert strings to floats"
   ]
  },
  {
   "cell_type": "code",
   "execution_count": 24,
   "metadata": {},
   "outputs": [],
   "source": [
    "# convert data types from strings to floats\n",
    "webDf.iloc[:, 5] = webDf.iloc[:, 5].astype(float)\n",
    "webDf.iloc[:, 6] = webDf.iloc[:, 6].astype(float)\n",
    "webDf.iloc[:, 7] = webDf.iloc[:, 7].astype(float)\n",
    "webDf.iloc[:, 8] = webDf.iloc[:, 8].astype(float)\n",
    "webDf.iloc[:, 9] = webDf.iloc[:, 9].astype(float)\n",
    "webDf.iloc[:, 10] = webDf.iloc[:, 10].astype(float)\n",
    "webDf.iloc[:, 11] = webDf.iloc[:, 11].astype(float)\n",
    "webDf.iloc[:, 12] = webDf.iloc[:, 12].astype(float)\n",
    "webDf.iloc[:, 13] = webDf.iloc[:, 13].astype(float)"
   ]
  },
  {
   "cell_type": "code",
   "execution_count": 26,
   "metadata": {},
   "outputs": [
    {
     "name": "stdout",
     "output_type": "stream",
     "text": [
      "Line 173 is the problem.\n"
     ]
    }
   ],
   "source": [
    "# loop to see what value is causing the ValueError\n",
    "    # converting the series in the [:, 4] location resulted in an error of: ValueError: could not convert string to float\n",
    "    # convert the Series to a list to be able to use Enumerate\n",
    "assetsList = webDf.iloc[:, 4].tolist()\n",
    "for index, val in enumerate(assetsList):\n",
    "    try:\n",
    "        float(val)\n",
    "    except ValueError:\n",
    "        print('Line {i} is the problem.'.format(i = index))\n",
    "        break"
   ]
  },
  {
   "cell_type": "code",
   "execution_count": 26,
   "metadata": {},
   "outputs": [
    {
     "data": {
      "text/plain": [
       "''"
      ]
     },
     "execution_count": 26,
     "metadata": {},
     "output_type": "execute_result"
    }
   ],
   "source": [
    "# fix webDf.iloc[173, 4]\n",
    "webDf.iloc[173, 4]"
   ]
  },
  {
   "cell_type": "code",
   "execution_count": 27,
   "metadata": {},
   "outputs": [],
   "source": [
    "# fix webDf.iloc[173, 4] cont.\n",
    "webDf.iloc[173, 4] = webDf.iloc[173, 4].replace('', '0')"
   ]
  },
  {
   "cell_type": "code",
   "execution_count": 28,
   "metadata": {},
   "outputs": [],
   "source": [
    "# retry converting webDf.iloc[:, 4] = webDf.iloc[:, 4].astype(float)\n",
    "webDf.iloc[:, 4] = webDf.iloc[:, 4].astype(float)"
   ]
  },
  {
   "cell_type": "code",
   "execution_count": null,
   "metadata": {},
   "outputs": [],
   "source": []
  },
  {
   "cell_type": "markdown",
   "metadata": {},
   "source": [
    "### Convert date format in inception_date to year only"
   ]
  },
  {
   "cell_type": "code",
   "execution_count": 29,
   "metadata": {},
   "outputs": [
    {
     "data": {
      "text/plain": [
       "0      11/1992\n",
       "1       5/1993\n",
       "2       7/2008\n",
       "3       1/2009\n",
       "4       7/1998\n",
       "        ...   \n",
       "171     6/1999\n",
       "172     8/2011\n",
       "173    10/2008\n",
       "174     6/2012\n",
       "175     5/2019\n",
       "Name: inception_date, Length: 176, dtype: object"
      ]
     },
     "execution_count": 29,
     "metadata": {},
     "output_type": "execute_result"
    }
   ],
   "source": [
    "# convert date format in inception_date to year only\n",
    "webDf['inception_date']"
   ]
  },
  {
   "cell_type": "code",
   "execution_count": 30,
   "metadata": {},
   "outputs": [],
   "source": [
    "# convert date format of inception_date to year only cont.\n",
    "import datetime\n",
    "\n",
    "webDf['inception_date'] = pd.to_datetime(webDf['inception_date'])\n",
    "\n",
    "webDf['inception_date'] = webDf['inception_date'].dt.year"
   ]
  },
  {
   "cell_type": "code",
   "execution_count": 31,
   "metadata": {},
   "outputs": [
    {
     "data": {
      "text/plain": [
       "0      1992\n",
       "1      1993\n",
       "2      2008\n",
       "3      2009\n",
       "4      1998\n",
       "       ... \n",
       "171    1999\n",
       "172    2011\n",
       "173    2008\n",
       "174    2012\n",
       "175    2019\n",
       "Name: inception_date, Length: 176, dtype: int64"
      ]
     },
     "execution_count": 31,
     "metadata": {},
     "output_type": "execute_result"
    }
   ],
   "source": [
    "webDf['inception_date']"
   ]
  },
  {
   "cell_type": "code",
   "execution_count": null,
   "metadata": {},
   "outputs": [],
   "source": []
  },
  {
   "cell_type": "markdown",
   "metadata": {},
   "source": [
    "### Convert net_assets values to millions."
   ]
  },
  {
   "cell_type": "code",
   "execution_count": 32,
   "metadata": {},
   "outputs": [
    {
     "data": {
      "text/plain": [
       "0      237.41\n",
       "1      237.41\n",
       "2      237.41\n",
       "3      544.77\n",
       "4      544.77\n",
       "        ...  \n",
       "171    213.13\n",
       "172     60.31\n",
       "173      0.00\n",
       "174     49.55\n",
       "175     10.12\n",
       "Name: net_assets, Length: 176, dtype: float64"
      ]
     },
     "execution_count": 32,
     "metadata": {},
     "output_type": "execute_result"
    }
   ],
   "source": [
    "# convert net_assets values to millions\n",
    "webDf['net_assets']"
   ]
  },
  {
   "cell_type": "code",
   "execution_count": 33,
   "metadata": {},
   "outputs": [],
   "source": [
    "# convert net_assets values to millions cont.\n",
    "webDf['net_assets'] = webDf['net_assets'] * 1000000"
   ]
  },
  {
   "cell_type": "code",
   "execution_count": 34,
   "metadata": {},
   "outputs": [
    {
     "data": {
      "text/plain": [
       "0      237410000.0\n",
       "1      237410000.0\n",
       "2      237410000.0\n",
       "3      544770000.0\n",
       "4      544770000.0\n",
       "          ...     \n",
       "171    213130000.0\n",
       "172     60310000.0\n",
       "173            0.0\n",
       "174     49550000.0\n",
       "175     10120000.0\n",
       "Name: net_assets, Length: 176, dtype: float64"
      ]
     },
     "execution_count": 34,
     "metadata": {},
     "output_type": "execute_result"
    }
   ],
   "source": [
    "webDf['net_assets']"
   ]
  },
  {
   "cell_type": "code",
   "execution_count": 35,
   "metadata": {},
   "outputs": [
    {
     "data": {
      "text/html": [
       "<div>\n",
       "<style scoped>\n",
       "    .dataframe tbody tr th:only-of-type {\n",
       "        vertical-align: middle;\n",
       "    }\n",
       "\n",
       "    .dataframe tbody tr th {\n",
       "        vertical-align: top;\n",
       "    }\n",
       "\n",
       "    .dataframe thead th {\n",
       "        text-align: right;\n",
       "    }\n",
       "</style>\n",
       "<table border=\"1\" class=\"dataframe\">\n",
       "  <thead>\n",
       "    <tr style=\"text-align: right;\">\n",
       "      <th></th>\n",
       "      <th>fund_name</th>\n",
       "      <th>fund_extended_name</th>\n",
       "      <th>Fund Type</th>\n",
       "      <th>inception_date</th>\n",
       "      <th>net_assets</th>\n",
       "      <th>fund_return_ytd</th>\n",
       "      <th>fund_return_1year</th>\n",
       "      <th>fund_return_3years</th>\n",
       "      <th>fund_return_5years</th>\n",
       "      <th>fund_return_10years</th>\n",
       "      <th>Prev YrRtn %</th>\n",
       "      <th>MgmtFee %</th>\n",
       "      <th>net_annual_expense_ratio_fund</th>\n",
       "      <th>StdDev</th>\n",
       "      <th>Benchmark Used</th>\n",
       "    </tr>\n",
       "  </thead>\n",
       "  <tbody>\n",
       "    <tr>\n",
       "      <th>0</th>\n",
       "      <td>SSIAX</td>\n",
       "      <td>1919 Socially Responsive Balanced Fund - A</td>\n",
       "      <td>Balanced</td>\n",
       "      <td>1992</td>\n",
       "      <td>237410000.0</td>\n",
       "      <td>-3.05</td>\n",
       "      <td>5.61</td>\n",
       "      <td>9.52</td>\n",
       "      <td>7.22</td>\n",
       "      <td>7.94</td>\n",
       "      <td>24.69</td>\n",
       "      <td>0.64</td>\n",
       "      <td>1.25</td>\n",
       "      <td>14.97</td>\n",
       "      <td>Blend: 60% S&amp;P 500 - 40% BC Aggregate</td>\n",
       "    </tr>\n",
       "    <tr>\n",
       "      <th>1</th>\n",
       "      <td>SESLX</td>\n",
       "      <td>1919 Socially Responsive Balanced Fund - C</td>\n",
       "      <td>Balanced</td>\n",
       "      <td>1993</td>\n",
       "      <td>237410000.0</td>\n",
       "      <td>-3.26</td>\n",
       "      <td>4.89</td>\n",
       "      <td>8.75</td>\n",
       "      <td>6.45</td>\n",
       "      <td>7.20</td>\n",
       "      <td>23.78</td>\n",
       "      <td>0.64</td>\n",
       "      <td>1.97</td>\n",
       "      <td>14.98</td>\n",
       "      <td>Blend: 60% S&amp;P 500 - 40% BC Aggregate</td>\n",
       "    </tr>\n",
       "    <tr>\n",
       "      <th>2</th>\n",
       "      <td>LMRNX</td>\n",
       "      <td>1919 Socially Responsive Balanced Fund - I</td>\n",
       "      <td>Balanced</td>\n",
       "      <td>2008</td>\n",
       "      <td>237410000.0</td>\n",
       "      <td>-2.94</td>\n",
       "      <td>6.00</td>\n",
       "      <td>9.88</td>\n",
       "      <td>7.53</td>\n",
       "      <td>8.23</td>\n",
       "      <td>25.10</td>\n",
       "      <td>0.64</td>\n",
       "      <td>0.96</td>\n",
       "      <td>14.99</td>\n",
       "      <td>Blend: 60% S&amp;P 500 - 40% BC Aggregate</td>\n",
       "    </tr>\n",
       "    <tr>\n",
       "      <th>3</th>\n",
       "      <td>ACASX</td>\n",
       "      <td>Access Capital Community Investment Fund A</td>\n",
       "      <td>Bond(Fixed Inc)</td>\n",
       "      <td>2009</td>\n",
       "      <td>544770000.0</td>\n",
       "      <td>2.87</td>\n",
       "      <td>6.56</td>\n",
       "      <td>2.82</td>\n",
       "      <td>2.13</td>\n",
       "      <td>2.49</td>\n",
       "      <td>5.63</td>\n",
       "      <td>0.35</td>\n",
       "      <td>1.11</td>\n",
       "      <td>1.58</td>\n",
       "      <td>Barclays Capital US Securitized Bond</td>\n",
       "    </tr>\n",
       "    <tr>\n",
       "      <th>4</th>\n",
       "      <td>ACCSX</td>\n",
       "      <td>Access Capital Community Investment Fund I</td>\n",
       "      <td>Bond(Fixed Inc)</td>\n",
       "      <td>1998</td>\n",
       "      <td>544770000.0</td>\n",
       "      <td>2.87</td>\n",
       "      <td>6.82</td>\n",
       "      <td>3.13</td>\n",
       "      <td>2.37</td>\n",
       "      <td>2.64</td>\n",
       "      <td>6.12</td>\n",
       "      <td>0.35</td>\n",
       "      <td>0.66</td>\n",
       "      <td>1.57</td>\n",
       "      <td>Barclays Capital US Securitized Bond</td>\n",
       "    </tr>\n",
       "  </tbody>\n",
       "</table>\n",
       "</div>"
      ],
      "text/plain": [
       "  fund_name                          fund_extended_name        Fund Type  \\\n",
       "0     SSIAX  1919 Socially Responsive Balanced Fund - A         Balanced   \n",
       "1     SESLX  1919 Socially Responsive Balanced Fund - C         Balanced   \n",
       "2     LMRNX  1919 Socially Responsive Balanced Fund - I         Balanced   \n",
       "3     ACASX  Access Capital Community Investment Fund A  Bond(Fixed Inc)   \n",
       "4     ACCSX  Access Capital Community Investment Fund I  Bond(Fixed Inc)   \n",
       "\n",
       "   inception_date   net_assets  fund_return_ytd  fund_return_1year  \\\n",
       "0            1992  237410000.0            -3.05               5.61   \n",
       "1            1993  237410000.0            -3.26               4.89   \n",
       "2            2008  237410000.0            -2.94               6.00   \n",
       "3            2009  544770000.0             2.87               6.56   \n",
       "4            1998  544770000.0             2.87               6.82   \n",
       "\n",
       "   fund_return_3years  fund_return_5years  fund_return_10years  Prev YrRtn %  \\\n",
       "0                9.52                7.22                 7.94         24.69   \n",
       "1                8.75                6.45                 7.20         23.78   \n",
       "2                9.88                7.53                 8.23         25.10   \n",
       "3                2.82                2.13                 2.49          5.63   \n",
       "4                3.13                2.37                 2.64          6.12   \n",
       "\n",
       "   MgmtFee %  net_annual_expense_ratio_fund  StdDev  \\\n",
       "0       0.64                           1.25   14.97   \n",
       "1       0.64                           1.97   14.98   \n",
       "2       0.64                           0.96   14.99   \n",
       "3       0.35                           1.11    1.58   \n",
       "4       0.35                           0.66    1.57   \n",
       "\n",
       "                          Benchmark Used  \n",
       "0  Blend: 60% S&P 500 - 40% BC Aggregate  \n",
       "1  Blend: 60% S&P 500 - 40% BC Aggregate  \n",
       "2  Blend: 60% S&P 500 - 40% BC Aggregate  \n",
       "3   Barclays Capital US Securitized Bond  \n",
       "4   Barclays Capital US Securitized Bond  "
      ]
     },
     "execution_count": 35,
     "metadata": {},
     "output_type": "execute_result"
    }
   ],
   "source": [
    "webDf.head(5)"
   ]
  },
  {
   "cell_type": "code",
   "execution_count": 36,
   "metadata": {},
   "outputs": [
    {
     "data": {
      "text/plain": [
       "(176, 15)"
      ]
     },
     "execution_count": 36,
     "metadata": {},
     "output_type": "execute_result"
    }
   ],
   "source": [
    "webDf.shape"
   ]
  },
  {
   "cell_type": "code",
   "execution_count": 37,
   "metadata": {},
   "outputs": [],
   "source": [
    "# export datafram to a csv file\n",
    "webDf.to_csv (r'C:\\dev\\code\\540FinalProject\\web_dataframe.csv', index = False, header=True)"
   ]
  },
  {
   "cell_type": "code",
   "execution_count": null,
   "metadata": {},
   "outputs": [],
   "source": []
  }
 ],
 "metadata": {
  "kernelspec": {
   "display_name": "Python 3",
   "language": "python",
   "name": "python3"
  },
  "language_info": {
   "codemirror_mode": {
    "name": "ipython",
    "version": 3
   },
   "file_extension": ".py",
   "mimetype": "text/x-python",
   "name": "python",
   "nbconvert_exporter": "python",
   "pygments_lexer": "ipython3",
   "version": "3.7.6"
  }
 },
 "nbformat": 4,
 "nbformat_minor": 4
}
